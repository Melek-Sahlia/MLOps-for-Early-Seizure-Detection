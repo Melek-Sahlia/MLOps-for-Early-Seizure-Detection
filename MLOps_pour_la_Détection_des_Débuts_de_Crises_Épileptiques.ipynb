{
  "cells": [
    {
      "cell_type": "markdown",
      "metadata": {
        "id": "2nZhqO4Fmzhs"
      },
      "source": [
        "* Team Name: DSTune +\n",
        "\n",
        "* Email : malek.Sahlia@ensi-uma.tn\n",
        "* LinkedIn : https://www.linkedin.com/in/melek-sahlia/\n",
        "* Challenge: AI Night Challenge 24 -\n",
        "MLOps pour la Détection des Débuts de Crises Épileptiques"
      ]
    },
    {
      "cell_type": "code",
      "execution_count": 16,
      "metadata": {
        "id": "_x4XbYPCxc-N"
      },
      "outputs": [],
      "source": [
        "#!git clone https://gitlab.com/eps_mlops/defi_ai_night_mlops.git"
      ]
    },
    {
      "cell_type": "code",
      "execution_count": 17,
      "metadata": {
        "colab": {
          "base_uri": "https://localhost:8080/",
          "height": 1000
        },
        "id": "aeHtsBt1tKZ0",
        "outputId": "8e424089-bc84-4e18-be11-0a932323bc2c"
      },
      "outputs": [
        {
          "output_type": "display_data",
          "data": {
            "text/plain": [
              "<IPython.core.display.Markdown object>"
            ],
            "text/markdown": "# Défi: MLOps pour la Détection des Débuts de Crises Épileptiques\n\n## Description du Défi\n\nLe défi consiste à développer un modèle de détection du début des crises épileptiques en se basant sur l'analyse de signaux physiologiques. Les participants sont appelés à utiliser les meilleures pratiques de MLOps pour développer, déployer et gérer leur modèle de manière efficace et reproductible. La solution proposée devra inclure un processus d'extraction de features à partir des signaux physiologiques, permettant de capturer des informations pertinentes pour la détection des crises. Le modèle devra être capable de classifier les états épileptiques afin de détecter le début des crises avec une précision élevée, tout en minimisant les faux positifs et les faux négatifs. En outre, il est demandé de concevoir une interface utilisateur permettant aux médecins de visualiser les détections.\n\n[Lien original de  la base CHB-MIT Scalp EEG Database.](https://physionet.org/content/chbmit/1.0.0/chb01/#files-panel)\n\n## Description du Pipeline\n\nPour créer un pipeline de manière efficace et reproductible, les participants doivent utiliser ZenML. Voici les étapes du pipeline:\n\n1. **Initialisation du dépôt ZenML :** Initialisation du référentiel ZenML pour gérer le code et les artefacts du pipeline.\n   \n2. **Définition de la source de données CSV :** Définition de la source de données pour lire les ensembles de données CSV, telles que la base de données CHB-MIT Scalp EEG déjà préparée.\n   \n3. **Fractionnement des données :** Division des données en ensembles de formation et de validation pour l'évaluation du modèle.\n   \n4. **Construction du pipeline ZenML :** Création du pipeline à l'aide de ZenML pour le traitement des données et la construction de modèles.\n   \n5. **Formation en pipeline :** Entraînement du pipeline pour entraîner le modèle à l’aide de données préparées.\n   \n6. **Évaluation du modèle :** Validation des performances du modèle sur l’ensemble par rapport à une baseline établie.\n   \n7. **Exportation du modèle :** Exportation du modèle entraîné pour un déploiement ultérieur sur une interface utilisateur pour la visualisation des détections.\n\nN.B. MLFlow peut également être utilisé avec ou à la place de ZenML. Voici les liens vers les documentations :\n- [Documentation de ZenML](https://docs.zenml.io/)\n- [Documentation de MLFlow](https://mlflow.org/docs/latest/index.html)\n\n## Description du Dataset\n\nLa classification des crises d'épilepsie est une tâche cruciale dans le domaine médical, notamment dans le diagnostic et la prise en charge des patients atteints d'épilepsie. Dans le contexte de l'électroencéphalographie (EEG), la classification des crises d'épilepsie vise à identifier les périodes de l'activité électrique cérébrale qui correspondent à une crise épileptique par rapport aux périodes d'activité électrique normale.\n\nLe CHB-MIT Scalp EEG Database est une ressource précieuse dans le domaine de la recherche sur l'épilepsie. Il s'agit d'une collection d'enregistrements EEG de sujets pédiatriques présentant des crises épileptiques réfractaires. Ces enregistrements ont été effectués dans le cadre d'une surveillance prolongée après l'arrêt de la médication antiépileptique, dans le but de caractériser les crises et d'évaluer l'éligibilité des patients à une intervention chirurgicale. Au total, 182 crises ont été annotées, fournissant une base de données riche en données pour étudier les modèles d'activité cérébrale associés aux crises épileptiques chez les enfants.\n\nLe processus de classification peut être réalisé en utilisant des techniques d'apprentissage automatique, où les caractéristiques extraites des signaux EEG sont utilisées pour distinguer entre les états de crise épileptique et les états normaux.\n\nLes états peuvent être étiquetés comme suit :\n- 0 (EEG interictal, cerveau normal) : Cette étiquette est associée aux périodes où l'EEG enregistre une activité électrique cérébrale normale, en dehors des périodes de crises épileptiques. Pendant ces périodes, le patient ne présente pas de symptômes d'épilepsie et son cerveau fonctionne dans des limites normales.\n- 1 (Crise d'épilepsie) : Cette étiquette est associée aux périodes où l'EEG enregistre une activité électrique cérébrale caractéristique des crises épileptiques. Ces périodes sont marquées par des modèles d'activité électrique anormaux, tels que des décharges épileptiformes, des pointes ou des ondes lentes.\n\nLa classification des crises d'épilepsie a plusieurs implications cliniques importantes :\n- Diagnostic précoce et précis\n- Suivi de l'évolution de la maladie\n- Optimisation du traitement\n- Prévention des crises\n\nLe processus d'extraction de caractéristiques revêt une importance cruciale dans la classification des crises d'épilepsie à partir des enregistrements EEG, permettant la réduction de la dimensionnalité des données, la capture de motifs caractéristiques pertinents, l'amélioration de la séparabilité des classes, la robustesse aux artefacts et au bruit, ainsi que la facilitation de l'interprétation des résultats pour mieux comprendre la pathophysiologie de l'épilepsie.\n\nLes participants doivent utiliser les datasets disponibles dans le GitLab du défi pour mener à bien leur travail.\n\nVoici une Description textuelle de chaque caractéristique dans Dataset :\n1. DFA (Detrended Fluctuation Analysis) : Analyse des fluctuations détrendues de la série temporelle.\n2. Fisher Information : Mesure de l'information de Fisher, une quantité liée à la capacité d'un processus stochastique à transporter des informations sur un paramètre inconnu.\n3. HFD (Higuchi Fractal Dimension) : Dimension fractale de Higuchi, une mesure de la complexité fractale d'une série temporelle.\n4. PFD (Petrosian Fractal Dimension) : Dimension fractale de Petrosian, une mesure de la rugosité ou de la complexité fractale d'une série temporelle.\n5. SVD (Singular Value Decomposition) Entropy : Entropie de la décomposition en valeurs singulières, une mesure de la complexité de la série temporelle basée sur la décomposition en valeurs singulières.\n6. Variance : Variance de la série temporelle, mesurant la dispersion des valeurs par rapport à la moyenne.\n7. Écart type : Mesure de la dispersion des valeurs par rapport à la moyenne, similaire à la variance mais en unités de la série temporelle.\n8. Moyenne : Moyenne arithmétique de la série temporelle, représentant la tendance centrale des données.\n9. Variance de la transformée de Fourier (FFT) : Variance des coefficients de la transformée de Fourier rapide (FFT), mesurant la dispersion des fréquences présentes dans le signal.\n10. Écart type de la transformée de Fourier (FFT) : Mesure de la dispersion des coefficients de la transformée de Fourier rapide (FFT) par rapport à leur moyenne.\n11. Variance de la deuxième transformée de Fourier (FFT2) : Variance des coefficients de la deuxième transformée de Fourier, fournissant des informations supplémentaires sur les fréquences présentes dans le signal.\n12. Taux de passage par zéro : Nombre de passages à travers zéro dans la série temporelle, indiquant les changements de direction dans le signal.\n13. Complexité : Mesure de la complexité du signal, basée sur des critères tels que l'irrégularité et la variabilité.\n\n--- \n\n## Edit: Clarification des canaux\n\n- Ch0x fait référence au nom du patient.\n- Le channel (canal) 1 ou 2 est la source du signal EEG.\n\nDans les enregistrements EEG, chaque canal représente un emplacement spécifique d'électrode sur le cuir chevelu. La convention de dénomination des canaux suit généralement un système standardisé, tel que le système 10-20, où la désignation « Ch0x » fait référence au nom du patient et « Canal 1 » ou « Canal 2 » correspond à la source du signal EEG. enregistré à partir des électrodes respectives. Ces canaux fournissent des informations spatiales sur l’activité cérébrale, permettant aux chercheurs d’analyser les signaux électriques provenant de différentes régions du cerveau."
          },
          "metadata": {}
        }
      ],
      "source": [
        "# Path to the README.md file\n",
        "file_path = '/content/defi_ai_night_mlops/README.md'\n",
        "\n",
        "# Reading the content of the file\n",
        "with open(file_path, 'r') as file:\n",
        "    content = file.read()\n",
        "\n",
        "# Displaying the content as Markdown\n",
        "from IPython.display import display, Markdown\n",
        "display(Markdown(content))\n"
      ]
    },
    {
      "cell_type": "code",
      "execution_count": 18,
      "metadata": {
        "id": "nAJGoywUl2ar"
      },
      "outputs": [],
      "source": [
        "#!pip install shap"
      ]
    },
    {
      "cell_type": "code",
      "source": [
        "#!pip install zenml"
      ],
      "metadata": {
        "id": "sqOMuOFnxr-2"
      },
      "execution_count": 19,
      "outputs": []
    },
    {
      "cell_type": "code",
      "execution_count": 20,
      "metadata": {
        "id": "ZjBHcxHJ_HaK"
      },
      "outputs": [],
      "source": [
        "import glob\n",
        "import numpy as np\n",
        "import pandas as pd\n",
        "import pickle\n",
        "import re\n",
        "import matplotlib.pyplot as plt\n",
        "from sklearn.metrics import accuracy_score, precision_score, recall_score, roc_auc_score\n",
        "from sklearn.metrics.pairwise import cosine_similarity, pairwise_distances\n",
        "from sklearn.model_selection import train_test_split\n",
        "from sklearn.preprocessing import StandardScaler\n",
        "from typing import Tuple\n",
        "from xgboost import XGBClassifier\n",
        "from zenml import pipeline, step\n",
        "import shap  # Assuming you need to use SHAP analysis later on\n"
      ]
    },
    {
      "cell_type": "code",
      "execution_count": 21,
      "metadata": {
        "colab": {
          "base_uri": "https://localhost:8080/"
        },
        "id": "eBce3lZXS8bA",
        "outputId": "c0698bde-d1fd-4674-aa40-5578632e8ee6"
      },
      "outputs": [
        {
          "output_type": "stream",
          "name": "stdout",
          "text": [
            "Requirement already satisfied: zenml[server] in /usr/local/lib/python3.10/dist-packages (0.56.2)\n",
            "Requirement already satisfied: alembic<1.9.0,>=1.8.1 in /usr/local/lib/python3.10/dist-packages (from zenml[server]) (1.8.1)\n",
            "Requirement already satisfied: azure-mgmt-resource>=21.0.0 in /usr/local/lib/python3.10/dist-packages (from zenml[server]) (23.0.1)\n",
            "Requirement already satisfied: bcrypt==4.0.1 in /usr/local/lib/python3.10/dist-packages (from zenml[server]) (4.0.1)\n",
            "Requirement already satisfied: click<8.1.4,>=8.0.1 in /usr/local/lib/python3.10/dist-packages (from zenml[server]) (8.1.3)\n",
            "Requirement already satisfied: click-params<0.4.0,>=0.3.0 in /usr/local/lib/python3.10/dist-packages (from zenml[server]) (0.3.0)\n",
            "Requirement already satisfied: cloudpickle<3,>=2.0.0 in /usr/local/lib/python3.10/dist-packages (from zenml[server]) (2.2.1)\n",
            "Requirement already satisfied: distro<2.0.0,>=1.6.0 in /usr/lib/python3/dist-packages (from zenml[server]) (1.7.0)\n",
            "Requirement already satisfied: docker<6.2.0,>=6.1.0 in /usr/local/lib/python3.10/dist-packages (from zenml[server]) (6.1.3)\n",
            "Requirement already satisfied: gitpython<4.0.0,>=3.1.18 in /usr/local/lib/python3.10/dist-packages (from zenml[server]) (3.1.42)\n",
            "Requirement already satisfied: httplib2<0.20,>=0.19.1 in /usr/local/lib/python3.10/dist-packages (from zenml[server]) (0.19.1)\n",
            "Requirement already satisfied: pandas>=1.1.5 in /usr/local/lib/python3.10/dist-packages (from zenml[server]) (1.5.3)\n",
            "Requirement already satisfied: passlib[bcrypt]<1.8.0,>=1.7.4 in /usr/local/lib/python3.10/dist-packages (from zenml[server]) (1.7.4)\n",
            "Requirement already satisfied: psutil>=5.0.0 in /usr/local/lib/python3.10/dist-packages (from zenml[server]) (5.9.5)\n",
            "Requirement already satisfied: pydantic<1.11,>=1.9.0 in /usr/local/lib/python3.10/dist-packages (from zenml[server]) (1.10.14)\n",
            "Requirement already satisfied: pymysql<1.1.0,>=1.0.2 in /usr/local/lib/python3.10/dist-packages (from zenml[server]) (1.0.3)\n",
            "Requirement already satisfied: pyparsing<3,>=2.4.0 in /usr/local/lib/python3.10/dist-packages (from zenml[server]) (2.4.7)\n",
            "Requirement already satisfied: python-dateutil<3.0.0,>=2.8.1 in /usr/local/lib/python3.10/dist-packages (from zenml[server]) (2.8.2)\n",
            "Requirement already satisfied: pyyaml>=6.0.1 in /usr/local/lib/python3.10/dist-packages (from zenml[server]) (6.0.1)\n",
            "Requirement already satisfied: rich[jupyter]>=12.0.0 in /usr/local/lib/python3.10/dist-packages (from zenml[server]) (13.7.1)\n",
            "Requirement already satisfied: sqlalchemy_utils==0.38.3 in /usr/local/lib/python3.10/dist-packages (from zenml[server]) (0.38.3)\n",
            "Requirement already satisfied: sqlmodel==0.0.8 in /usr/local/lib/python3.10/dist-packages (from zenml[server]) (0.0.8)\n",
            "Requirement already satisfied: Jinja2 in /usr/local/lib/python3.10/dist-packages (from zenml[server]) (3.1.3)\n",
            "Requirement already satisfied: fastapi<0.100,>=0.75 in /usr/local/lib/python3.10/dist-packages (from zenml[server]) (0.99.1)\n",
            "Requirement already satisfied: fastapi-utils<0.3.0,>=0.2.1 in /usr/local/lib/python3.10/dist-packages (from zenml[server]) (0.2.1)\n",
            "Requirement already satisfied: ipinfo>=4.4.3 in /usr/local/lib/python3.10/dist-packages (from zenml[server]) (5.0.1)\n",
            "Requirement already satisfied: orjson<3.9.0,>=3.8.3 in /usr/local/lib/python3.10/dist-packages (from zenml[server]) (3.8.14)\n",
            "Requirement already satisfied: pyjwt[crypto]==2.7.* in /usr/local/lib/python3.10/dist-packages (from zenml[server]) (2.7.0)\n",
            "Requirement already satisfied: python-multipart<0.1.0,>=0.0.5 in /usr/local/lib/python3.10/dist-packages (from zenml[server]) (0.0.9)\n",
            "Requirement already satisfied: uvicorn[standard]>=0.17.5 in /usr/local/lib/python3.10/dist-packages (from zenml[server]) (0.29.0)\n",
            "Requirement already satisfied: cryptography>=3.4.0 in /usr/local/lib/python3.10/dist-packages (from pyjwt[crypto]==2.7.*->zenml[server]) (42.0.5)\n",
            "Requirement already satisfied: SQLAlchemy>=1.3 in /usr/local/lib/python3.10/dist-packages (from sqlalchemy_utils==0.38.3->zenml[server]) (1.4.41)\n",
            "Requirement already satisfied: sqlalchemy2-stubs in /usr/local/lib/python3.10/dist-packages (from sqlmodel==0.0.8->zenml[server]) (0.0.2a38)\n",
            "Requirement already satisfied: Mako in /usr/local/lib/python3.10/dist-packages (from alembic<1.9.0,>=1.8.1->zenml[server]) (1.3.2)\n",
            "Requirement already satisfied: isodate<1.0.0,>=0.6.1 in /usr/local/lib/python3.10/dist-packages (from azure-mgmt-resource>=21.0.0->zenml[server]) (0.6.1)\n",
            "Requirement already satisfied: azure-common~=1.1 in /usr/local/lib/python3.10/dist-packages (from azure-mgmt-resource>=21.0.0->zenml[server]) (1.1.28)\n",
            "Requirement already satisfied: azure-mgmt-core<2.0.0,>=1.3.2 in /usr/local/lib/python3.10/dist-packages (from azure-mgmt-resource>=21.0.0->zenml[server]) (1.4.0)\n",
            "Requirement already satisfied: validators<0.19,>=0.18 in /usr/local/lib/python3.10/dist-packages (from click-params<0.4.0,>=0.3.0->zenml[server]) (0.18.2)\n",
            "Requirement already satisfied: packaging>=14.0 in /usr/local/lib/python3.10/dist-packages (from docker<6.2.0,>=6.1.0->zenml[server]) (24.0)\n",
            "Requirement already satisfied: requests>=2.26.0 in /usr/local/lib/python3.10/dist-packages (from docker<6.2.0,>=6.1.0->zenml[server]) (2.31.0)\n",
            "Requirement already satisfied: urllib3>=1.26.0 in /usr/local/lib/python3.10/dist-packages (from docker<6.2.0,>=6.1.0->zenml[server]) (2.0.7)\n",
            "Requirement already satisfied: websocket-client>=0.32.0 in /usr/local/lib/python3.10/dist-packages (from docker<6.2.0,>=6.1.0->zenml[server]) (1.7.0)\n",
            "Requirement already satisfied: starlette<0.28.0,>=0.27.0 in /usr/local/lib/python3.10/dist-packages (from fastapi<0.100,>=0.75->zenml[server]) (0.27.0)\n",
            "Requirement already satisfied: typing-extensions>=4.5.0 in /usr/local/lib/python3.10/dist-packages (from fastapi<0.100,>=0.75->zenml[server]) (4.10.0)\n",
            "Requirement already satisfied: gitdb<5,>=4.0.1 in /usr/local/lib/python3.10/dist-packages (from gitpython<4.0.0,>=3.1.18->zenml[server]) (4.0.11)\n",
            "Requirement already satisfied: cachetools in /usr/local/lib/python3.10/dist-packages (from ipinfo>=4.4.3->zenml[server]) (5.3.3)\n",
            "Requirement already satisfied: aiohttp<=4 in /usr/local/lib/python3.10/dist-packages (from ipinfo>=4.4.3->zenml[server]) (3.9.3)\n",
            "Requirement already satisfied: pytz>=2020.1 in /usr/local/lib/python3.10/dist-packages (from pandas>=1.1.5->zenml[server]) (2023.4)\n",
            "Requirement already satisfied: numpy>=1.21.0 in /usr/local/lib/python3.10/dist-packages (from pandas>=1.1.5->zenml[server]) (1.25.2)\n",
            "Requirement already satisfied: six>=1.5 in /usr/local/lib/python3.10/dist-packages (from python-dateutil<3.0.0,>=2.8.1->zenml[server]) (1.16.0)\n",
            "Requirement already satisfied: markdown-it-py>=2.2.0 in /usr/local/lib/python3.10/dist-packages (from rich[jupyter]>=12.0.0->zenml[server]) (3.0.0)\n",
            "Requirement already satisfied: pygments<3.0.0,>=2.13.0 in /usr/local/lib/python3.10/dist-packages (from rich[jupyter]>=12.0.0->zenml[server]) (2.16.1)\n",
            "Requirement already satisfied: ipywidgets<9,>=7.5.1 in /usr/local/lib/python3.10/dist-packages (from rich[jupyter]>=12.0.0->zenml[server]) (7.7.1)\n",
            "Requirement already satisfied: h11>=0.8 in /usr/local/lib/python3.10/dist-packages (from uvicorn[standard]>=0.17.5->zenml[server]) (0.14.0)\n",
            "Requirement already satisfied: httptools>=0.5.0 in /usr/local/lib/python3.10/dist-packages (from uvicorn[standard]>=0.17.5->zenml[server]) (0.6.1)\n",
            "Requirement already satisfied: python-dotenv>=0.13 in /usr/local/lib/python3.10/dist-packages (from uvicorn[standard]>=0.17.5->zenml[server]) (1.0.1)\n",
            "Requirement already satisfied: uvloop!=0.15.0,!=0.15.1,>=0.14.0 in /usr/local/lib/python3.10/dist-packages (from uvicorn[standard]>=0.17.5->zenml[server]) (0.19.0)\n",
            "Requirement already satisfied: watchfiles>=0.13 in /usr/local/lib/python3.10/dist-packages (from uvicorn[standard]>=0.17.5->zenml[server]) (0.21.0)\n",
            "Requirement already satisfied: websockets>=10.4 in /usr/local/lib/python3.10/dist-packages (from uvicorn[standard]>=0.17.5->zenml[server]) (12.0)\n",
            "Requirement already satisfied: MarkupSafe>=2.0 in /usr/local/lib/python3.10/dist-packages (from Jinja2->zenml[server]) (2.1.5)\n",
            "Requirement already satisfied: aiosignal>=1.1.2 in /usr/local/lib/python3.10/dist-packages (from aiohttp<=4->ipinfo>=4.4.3->zenml[server]) (1.3.1)\n",
            "Requirement already satisfied: attrs>=17.3.0 in /usr/local/lib/python3.10/dist-packages (from aiohttp<=4->ipinfo>=4.4.3->zenml[server]) (23.2.0)\n",
            "Requirement already satisfied: frozenlist>=1.1.1 in /usr/local/lib/python3.10/dist-packages (from aiohttp<=4->ipinfo>=4.4.3->zenml[server]) (1.4.1)\n",
            "Requirement already satisfied: multidict<7.0,>=4.5 in /usr/local/lib/python3.10/dist-packages (from aiohttp<=4->ipinfo>=4.4.3->zenml[server]) (6.0.5)\n",
            "Requirement already satisfied: yarl<2.0,>=1.0 in /usr/local/lib/python3.10/dist-packages (from aiohttp<=4->ipinfo>=4.4.3->zenml[server]) (1.9.4)\n",
            "Requirement already satisfied: async-timeout<5.0,>=4.0 in /usr/local/lib/python3.10/dist-packages (from aiohttp<=4->ipinfo>=4.4.3->zenml[server]) (4.0.3)\n",
            "Requirement already satisfied: azure-core<2.0.0,>=1.26.2 in /usr/local/lib/python3.10/dist-packages (from azure-mgmt-core<2.0.0,>=1.3.2->azure-mgmt-resource>=21.0.0->zenml[server]) (1.30.1)\n",
            "Requirement already satisfied: cffi>=1.12 in /usr/local/lib/python3.10/dist-packages (from cryptography>=3.4.0->pyjwt[crypto]==2.7.*->zenml[server]) (1.16.0)\n",
            "Requirement already satisfied: smmap<6,>=3.0.1 in /usr/local/lib/python3.10/dist-packages (from gitdb<5,>=4.0.1->gitpython<4.0.0,>=3.1.18->zenml[server]) (5.0.1)\n",
            "Requirement already satisfied: ipykernel>=4.5.1 in /usr/local/lib/python3.10/dist-packages (from ipywidgets<9,>=7.5.1->rich[jupyter]>=12.0.0->zenml[server]) (5.5.6)\n",
            "Requirement already satisfied: ipython-genutils~=0.2.0 in /usr/local/lib/python3.10/dist-packages (from ipywidgets<9,>=7.5.1->rich[jupyter]>=12.0.0->zenml[server]) (0.2.0)\n",
            "Requirement already satisfied: traitlets>=4.3.1 in /usr/local/lib/python3.10/dist-packages (from ipywidgets<9,>=7.5.1->rich[jupyter]>=12.0.0->zenml[server]) (5.7.1)\n",
            "Requirement already satisfied: widgetsnbextension~=3.6.0 in /usr/local/lib/python3.10/dist-packages (from ipywidgets<9,>=7.5.1->rich[jupyter]>=12.0.0->zenml[server]) (3.6.6)\n",
            "Requirement already satisfied: ipython>=4.0.0 in /usr/local/lib/python3.10/dist-packages (from ipywidgets<9,>=7.5.1->rich[jupyter]>=12.0.0->zenml[server]) (7.34.0)\n",
            "Requirement already satisfied: jupyterlab-widgets>=1.0.0 in /usr/local/lib/python3.10/dist-packages (from ipywidgets<9,>=7.5.1->rich[jupyter]>=12.0.0->zenml[server]) (3.0.10)\n",
            "Requirement already satisfied: mdurl~=0.1 in /usr/local/lib/python3.10/dist-packages (from markdown-it-py>=2.2.0->rich[jupyter]>=12.0.0->zenml[server]) (0.1.2)\n",
            "Requirement already satisfied: charset-normalizer<4,>=2 in /usr/local/lib/python3.10/dist-packages (from requests>=2.26.0->docker<6.2.0,>=6.1.0->zenml[server]) (3.3.2)\n",
            "Requirement already satisfied: idna<4,>=2.5 in /usr/local/lib/python3.10/dist-packages (from requests>=2.26.0->docker<6.2.0,>=6.1.0->zenml[server]) (3.6)\n",
            "Requirement already satisfied: certifi>=2017.4.17 in /usr/local/lib/python3.10/dist-packages (from requests>=2.26.0->docker<6.2.0,>=6.1.0->zenml[server]) (2024.2.2)\n",
            "Requirement already satisfied: greenlet!=0.4.17 in /usr/local/lib/python3.10/dist-packages (from SQLAlchemy>=1.3->sqlalchemy_utils==0.38.3->zenml[server]) (3.0.3)\n",
            "Requirement already satisfied: anyio<5,>=3.4.0 in /usr/local/lib/python3.10/dist-packages (from starlette<0.28.0,>=0.27.0->fastapi<0.100,>=0.75->zenml[server]) (3.7.1)\n",
            "Requirement already satisfied: decorator>=3.4.0 in /usr/local/lib/python3.10/dist-packages (from validators<0.19,>=0.18->click-params<0.4.0,>=0.3.0->zenml[server]) (4.4.2)\n",
            "Requirement already satisfied: sniffio>=1.1 in /usr/local/lib/python3.10/dist-packages (from anyio<5,>=3.4.0->starlette<0.28.0,>=0.27.0->fastapi<0.100,>=0.75->zenml[server]) (1.3.1)\n",
            "Requirement already satisfied: exceptiongroup in /usr/local/lib/python3.10/dist-packages (from anyio<5,>=3.4.0->starlette<0.28.0,>=0.27.0->fastapi<0.100,>=0.75->zenml[server]) (1.2.0)\n",
            "Requirement already satisfied: pycparser in /usr/local/lib/python3.10/dist-packages (from cffi>=1.12->cryptography>=3.4.0->pyjwt[crypto]==2.7.*->zenml[server]) (2.21)\n",
            "Requirement already satisfied: jupyter-client in /usr/local/lib/python3.10/dist-packages (from ipykernel>=4.5.1->ipywidgets<9,>=7.5.1->rich[jupyter]>=12.0.0->zenml[server]) (6.1.12)\n",
            "Requirement already satisfied: tornado>=4.2 in /usr/local/lib/python3.10/dist-packages (from ipykernel>=4.5.1->ipywidgets<9,>=7.5.1->rich[jupyter]>=12.0.0->zenml[server]) (6.3.3)\n",
            "Requirement already satisfied: setuptools>=18.5 in /usr/local/lib/python3.10/dist-packages (from ipython>=4.0.0->ipywidgets<9,>=7.5.1->rich[jupyter]>=12.0.0->zenml[server]) (67.7.2)\n",
            "Requirement already satisfied: jedi>=0.16 in /usr/local/lib/python3.10/dist-packages (from ipython>=4.0.0->ipywidgets<9,>=7.5.1->rich[jupyter]>=12.0.0->zenml[server]) (0.19.1)\n",
            "Requirement already satisfied: pickleshare in /usr/local/lib/python3.10/dist-packages (from ipython>=4.0.0->ipywidgets<9,>=7.5.1->rich[jupyter]>=12.0.0->zenml[server]) (0.7.5)\n",
            "Requirement already satisfied: prompt-toolkit!=3.0.0,!=3.0.1,<3.1.0,>=2.0.0 in /usr/local/lib/python3.10/dist-packages (from ipython>=4.0.0->ipywidgets<9,>=7.5.1->rich[jupyter]>=12.0.0->zenml[server]) (3.0.43)\n",
            "Requirement already satisfied: backcall in /usr/local/lib/python3.10/dist-packages (from ipython>=4.0.0->ipywidgets<9,>=7.5.1->rich[jupyter]>=12.0.0->zenml[server]) (0.2.0)\n",
            "Requirement already satisfied: matplotlib-inline in /usr/local/lib/python3.10/dist-packages (from ipython>=4.0.0->ipywidgets<9,>=7.5.1->rich[jupyter]>=12.0.0->zenml[server]) (0.1.6)\n",
            "Requirement already satisfied: pexpect>4.3 in /usr/local/lib/python3.10/dist-packages (from ipython>=4.0.0->ipywidgets<9,>=7.5.1->rich[jupyter]>=12.0.0->zenml[server]) (4.9.0)\n",
            "Requirement already satisfied: notebook>=4.4.1 in /usr/local/lib/python3.10/dist-packages (from widgetsnbextension~=3.6.0->ipywidgets<9,>=7.5.1->rich[jupyter]>=12.0.0->zenml[server]) (6.5.5)\n",
            "Requirement already satisfied: parso<0.9.0,>=0.8.3 in /usr/local/lib/python3.10/dist-packages (from jedi>=0.16->ipython>=4.0.0->ipywidgets<9,>=7.5.1->rich[jupyter]>=12.0.0->zenml[server]) (0.8.3)\n",
            "Requirement already satisfied: pyzmq<25,>=17 in /usr/local/lib/python3.10/dist-packages (from notebook>=4.4.1->widgetsnbextension~=3.6.0->ipywidgets<9,>=7.5.1->rich[jupyter]>=12.0.0->zenml[server]) (23.2.1)\n",
            "Requirement already satisfied: argon2-cffi in /usr/local/lib/python3.10/dist-packages (from notebook>=4.4.1->widgetsnbextension~=3.6.0->ipywidgets<9,>=7.5.1->rich[jupyter]>=12.0.0->zenml[server]) (23.1.0)\n",
            "Requirement already satisfied: jupyter-core>=4.6.1 in /usr/local/lib/python3.10/dist-packages (from notebook>=4.4.1->widgetsnbextension~=3.6.0->ipywidgets<9,>=7.5.1->rich[jupyter]>=12.0.0->zenml[server]) (5.7.2)\n",
            "Requirement already satisfied: nbformat in /usr/local/lib/python3.10/dist-packages (from notebook>=4.4.1->widgetsnbextension~=3.6.0->ipywidgets<9,>=7.5.1->rich[jupyter]>=12.0.0->zenml[server]) (5.10.3)\n",
            "Requirement already satisfied: nbconvert>=5 in /usr/local/lib/python3.10/dist-packages (from notebook>=4.4.1->widgetsnbextension~=3.6.0->ipywidgets<9,>=7.5.1->rich[jupyter]>=12.0.0->zenml[server]) (6.5.4)\n",
            "Requirement already satisfied: nest-asyncio>=1.5 in /usr/local/lib/python3.10/dist-packages (from notebook>=4.4.1->widgetsnbextension~=3.6.0->ipywidgets<9,>=7.5.1->rich[jupyter]>=12.0.0->zenml[server]) (1.6.0)\n",
            "Requirement already satisfied: Send2Trash>=1.8.0 in /usr/local/lib/python3.10/dist-packages (from notebook>=4.4.1->widgetsnbextension~=3.6.0->ipywidgets<9,>=7.5.1->rich[jupyter]>=12.0.0->zenml[server]) (1.8.2)\n",
            "Requirement already satisfied: terminado>=0.8.3 in /usr/local/lib/python3.10/dist-packages (from notebook>=4.4.1->widgetsnbextension~=3.6.0->ipywidgets<9,>=7.5.1->rich[jupyter]>=12.0.0->zenml[server]) (0.18.1)\n",
            "Requirement already satisfied: prometheus-client in /usr/local/lib/python3.10/dist-packages (from notebook>=4.4.1->widgetsnbextension~=3.6.0->ipywidgets<9,>=7.5.1->rich[jupyter]>=12.0.0->zenml[server]) (0.20.0)\n",
            "Requirement already satisfied: nbclassic>=0.4.7 in /usr/local/lib/python3.10/dist-packages (from notebook>=4.4.1->widgetsnbextension~=3.6.0->ipywidgets<9,>=7.5.1->rich[jupyter]>=12.0.0->zenml[server]) (1.0.0)\n",
            "Requirement already satisfied: ptyprocess>=0.5 in /usr/local/lib/python3.10/dist-packages (from pexpect>4.3->ipython>=4.0.0->ipywidgets<9,>=7.5.1->rich[jupyter]>=12.0.0->zenml[server]) (0.7.0)\n",
            "Requirement already satisfied: wcwidth in /usr/local/lib/python3.10/dist-packages (from prompt-toolkit!=3.0.0,!=3.0.1,<3.1.0,>=2.0.0->ipython>=4.0.0->ipywidgets<9,>=7.5.1->rich[jupyter]>=12.0.0->zenml[server]) (0.2.13)\n",
            "Requirement already satisfied: platformdirs>=2.5 in /usr/local/lib/python3.10/dist-packages (from jupyter-core>=4.6.1->notebook>=4.4.1->widgetsnbextension~=3.6.0->ipywidgets<9,>=7.5.1->rich[jupyter]>=12.0.0->zenml[server]) (4.2.0)\n",
            "Requirement already satisfied: jupyter-server>=1.8 in /usr/local/lib/python3.10/dist-packages (from nbclassic>=0.4.7->notebook>=4.4.1->widgetsnbextension~=3.6.0->ipywidgets<9,>=7.5.1->rich[jupyter]>=12.0.0->zenml[server]) (1.24.0)\n",
            "Requirement already satisfied: notebook-shim>=0.2.3 in /usr/local/lib/python3.10/dist-packages (from nbclassic>=0.4.7->notebook>=4.4.1->widgetsnbextension~=3.6.0->ipywidgets<9,>=7.5.1->rich[jupyter]>=12.0.0->zenml[server]) (0.2.4)\n",
            "Requirement already satisfied: lxml in /usr/local/lib/python3.10/dist-packages (from nbconvert>=5->notebook>=4.4.1->widgetsnbextension~=3.6.0->ipywidgets<9,>=7.5.1->rich[jupyter]>=12.0.0->zenml[server]) (4.9.4)\n",
            "Requirement already satisfied: beautifulsoup4 in /usr/local/lib/python3.10/dist-packages (from nbconvert>=5->notebook>=4.4.1->widgetsnbextension~=3.6.0->ipywidgets<9,>=7.5.1->rich[jupyter]>=12.0.0->zenml[server]) (4.12.3)\n",
            "Requirement already satisfied: bleach in /usr/local/lib/python3.10/dist-packages (from nbconvert>=5->notebook>=4.4.1->widgetsnbextension~=3.6.0->ipywidgets<9,>=7.5.1->rich[jupyter]>=12.0.0->zenml[server]) (6.1.0)\n",
            "Requirement already satisfied: defusedxml in /usr/local/lib/python3.10/dist-packages (from nbconvert>=5->notebook>=4.4.1->widgetsnbextension~=3.6.0->ipywidgets<9,>=7.5.1->rich[jupyter]>=12.0.0->zenml[server]) (0.7.1)\n",
            "Requirement already satisfied: entrypoints>=0.2.2 in /usr/local/lib/python3.10/dist-packages (from nbconvert>=5->notebook>=4.4.1->widgetsnbextension~=3.6.0->ipywidgets<9,>=7.5.1->rich[jupyter]>=12.0.0->zenml[server]) (0.4)\n",
            "Requirement already satisfied: jupyterlab-pygments in /usr/local/lib/python3.10/dist-packages (from nbconvert>=5->notebook>=4.4.1->widgetsnbextension~=3.6.0->ipywidgets<9,>=7.5.1->rich[jupyter]>=12.0.0->zenml[server]) (0.3.0)\n",
            "Requirement already satisfied: mistune<2,>=0.8.1 in /usr/local/lib/python3.10/dist-packages (from nbconvert>=5->notebook>=4.4.1->widgetsnbextension~=3.6.0->ipywidgets<9,>=7.5.1->rich[jupyter]>=12.0.0->zenml[server]) (0.8.4)\n",
            "Requirement already satisfied: nbclient>=0.5.0 in /usr/local/lib/python3.10/dist-packages (from nbconvert>=5->notebook>=4.4.1->widgetsnbextension~=3.6.0->ipywidgets<9,>=7.5.1->rich[jupyter]>=12.0.0->zenml[server]) (0.10.0)\n",
            "Requirement already satisfied: pandocfilters>=1.4.1 in /usr/local/lib/python3.10/dist-packages (from nbconvert>=5->notebook>=4.4.1->widgetsnbextension~=3.6.0->ipywidgets<9,>=7.5.1->rich[jupyter]>=12.0.0->zenml[server]) (1.5.1)\n",
            "Requirement already satisfied: tinycss2 in /usr/local/lib/python3.10/dist-packages (from nbconvert>=5->notebook>=4.4.1->widgetsnbextension~=3.6.0->ipywidgets<9,>=7.5.1->rich[jupyter]>=12.0.0->zenml[server]) (1.2.1)\n",
            "Requirement already satisfied: fastjsonschema in /usr/local/lib/python3.10/dist-packages (from nbformat->notebook>=4.4.1->widgetsnbextension~=3.6.0->ipywidgets<9,>=7.5.1->rich[jupyter]>=12.0.0->zenml[server]) (2.19.1)\n",
            "Requirement already satisfied: jsonschema>=2.6 in /usr/local/lib/python3.10/dist-packages (from nbformat->notebook>=4.4.1->widgetsnbextension~=3.6.0->ipywidgets<9,>=7.5.1->rich[jupyter]>=12.0.0->zenml[server]) (4.19.2)\n",
            "Requirement already satisfied: argon2-cffi-bindings in /usr/local/lib/python3.10/dist-packages (from argon2-cffi->notebook>=4.4.1->widgetsnbextension~=3.6.0->ipywidgets<9,>=7.5.1->rich[jupyter]>=12.0.0->zenml[server]) (21.2.0)\n",
            "Requirement already satisfied: jsonschema-specifications>=2023.03.6 in /usr/local/lib/python3.10/dist-packages (from jsonschema>=2.6->nbformat->notebook>=4.4.1->widgetsnbextension~=3.6.0->ipywidgets<9,>=7.5.1->rich[jupyter]>=12.0.0->zenml[server]) (2023.12.1)\n",
            "Requirement already satisfied: referencing>=0.28.4 in /usr/local/lib/python3.10/dist-packages (from jsonschema>=2.6->nbformat->notebook>=4.4.1->widgetsnbextension~=3.6.0->ipywidgets<9,>=7.5.1->rich[jupyter]>=12.0.0->zenml[server]) (0.34.0)\n",
            "Requirement already satisfied: rpds-py>=0.7.1 in /usr/local/lib/python3.10/dist-packages (from jsonschema>=2.6->nbformat->notebook>=4.4.1->widgetsnbextension~=3.6.0->ipywidgets<9,>=7.5.1->rich[jupyter]>=12.0.0->zenml[server]) (0.18.0)\n",
            "Requirement already satisfied: soupsieve>1.2 in /usr/local/lib/python3.10/dist-packages (from beautifulsoup4->nbconvert>=5->notebook>=4.4.1->widgetsnbextension~=3.6.0->ipywidgets<9,>=7.5.1->rich[jupyter]>=12.0.0->zenml[server]) (2.5)\n",
            "Requirement already satisfied: webencodings in /usr/local/lib/python3.10/dist-packages (from bleach->nbconvert>=5->notebook>=4.4.1->widgetsnbextension~=3.6.0->ipywidgets<9,>=7.5.1->rich[jupyter]>=12.0.0->zenml[server]) (0.5.1)\n",
            "Requirement already satisfied: zenml in /usr/local/lib/python3.10/dist-packages (0.56.2)\n",
            "Requirement already satisfied: alembic<1.9.0,>=1.8.1 in /usr/local/lib/python3.10/dist-packages (from zenml) (1.8.1)\n",
            "Requirement already satisfied: azure-mgmt-resource>=21.0.0 in /usr/local/lib/python3.10/dist-packages (from zenml) (23.0.1)\n",
            "Requirement already satisfied: bcrypt==4.0.1 in /usr/local/lib/python3.10/dist-packages (from zenml) (4.0.1)\n",
            "Requirement already satisfied: click<8.1.4,>=8.0.1 in /usr/local/lib/python3.10/dist-packages (from zenml) (8.1.3)\n",
            "Requirement already satisfied: click-params<0.4.0,>=0.3.0 in /usr/local/lib/python3.10/dist-packages (from zenml) (0.3.0)\n",
            "Requirement already satisfied: cloudpickle<3,>=2.0.0 in /usr/local/lib/python3.10/dist-packages (from zenml) (2.2.1)\n",
            "Requirement already satisfied: distro<2.0.0,>=1.6.0 in /usr/lib/python3/dist-packages (from zenml) (1.7.0)\n",
            "Requirement already satisfied: docker<6.2.0,>=6.1.0 in /usr/local/lib/python3.10/dist-packages (from zenml) (6.1.3)\n",
            "Requirement already satisfied: gitpython<4.0.0,>=3.1.18 in /usr/local/lib/python3.10/dist-packages (from zenml) (3.1.42)\n",
            "Requirement already satisfied: httplib2<0.20,>=0.19.1 in /usr/local/lib/python3.10/dist-packages (from zenml) (0.19.1)\n",
            "Requirement already satisfied: pandas>=1.1.5 in /usr/local/lib/python3.10/dist-packages (from zenml) (1.5.3)\n",
            "Requirement already satisfied: passlib[bcrypt]<1.8.0,>=1.7.4 in /usr/local/lib/python3.10/dist-packages (from zenml) (1.7.4)\n",
            "Requirement already satisfied: psutil>=5.0.0 in /usr/local/lib/python3.10/dist-packages (from zenml) (5.9.5)\n",
            "Requirement already satisfied: pydantic<1.11,>=1.9.0 in /usr/local/lib/python3.10/dist-packages (from zenml) (1.10.14)\n",
            "Requirement already satisfied: pymysql<1.1.0,>=1.0.2 in /usr/local/lib/python3.10/dist-packages (from zenml) (1.0.3)\n",
            "Requirement already satisfied: pyparsing<3,>=2.4.0 in /usr/local/lib/python3.10/dist-packages (from zenml) (2.4.7)\n",
            "Requirement already satisfied: python-dateutil<3.0.0,>=2.8.1 in /usr/local/lib/python3.10/dist-packages (from zenml) (2.8.2)\n",
            "Requirement already satisfied: pyyaml>=6.0.1 in /usr/local/lib/python3.10/dist-packages (from zenml) (6.0.1)\n",
            "Requirement already satisfied: rich[jupyter]>=12.0.0 in /usr/local/lib/python3.10/dist-packages (from zenml) (13.7.1)\n",
            "Requirement already satisfied: sqlalchemy_utils==0.38.3 in /usr/local/lib/python3.10/dist-packages (from zenml) (0.38.3)\n",
            "Requirement already satisfied: sqlmodel==0.0.8 in /usr/local/lib/python3.10/dist-packages (from zenml) (0.0.8)\n",
            "Requirement already satisfied: SQLAlchemy>=1.3 in /usr/local/lib/python3.10/dist-packages (from sqlalchemy_utils==0.38.3->zenml) (1.4.41)\n",
            "Requirement already satisfied: sqlalchemy2-stubs in /usr/local/lib/python3.10/dist-packages (from sqlmodel==0.0.8->zenml) (0.0.2a38)\n",
            "Requirement already satisfied: Mako in /usr/local/lib/python3.10/dist-packages (from alembic<1.9.0,>=1.8.1->zenml) (1.3.2)\n",
            "Requirement already satisfied: isodate<1.0.0,>=0.6.1 in /usr/local/lib/python3.10/dist-packages (from azure-mgmt-resource>=21.0.0->zenml) (0.6.1)\n",
            "Requirement already satisfied: azure-common~=1.1 in /usr/local/lib/python3.10/dist-packages (from azure-mgmt-resource>=21.0.0->zenml) (1.1.28)\n",
            "Requirement already satisfied: azure-mgmt-core<2.0.0,>=1.3.2 in /usr/local/lib/python3.10/dist-packages (from azure-mgmt-resource>=21.0.0->zenml) (1.4.0)\n",
            "Requirement already satisfied: validators<0.19,>=0.18 in /usr/local/lib/python3.10/dist-packages (from click-params<0.4.0,>=0.3.0->zenml) (0.18.2)\n",
            "Requirement already satisfied: packaging>=14.0 in /usr/local/lib/python3.10/dist-packages (from docker<6.2.0,>=6.1.0->zenml) (24.0)\n",
            "Requirement already satisfied: requests>=2.26.0 in /usr/local/lib/python3.10/dist-packages (from docker<6.2.0,>=6.1.0->zenml) (2.31.0)\n",
            "Requirement already satisfied: urllib3>=1.26.0 in /usr/local/lib/python3.10/dist-packages (from docker<6.2.0,>=6.1.0->zenml) (2.0.7)\n",
            "Requirement already satisfied: websocket-client>=0.32.0 in /usr/local/lib/python3.10/dist-packages (from docker<6.2.0,>=6.1.0->zenml) (1.7.0)\n",
            "Requirement already satisfied: gitdb<5,>=4.0.1 in /usr/local/lib/python3.10/dist-packages (from gitpython<4.0.0,>=3.1.18->zenml) (4.0.11)\n",
            "Requirement already satisfied: pytz>=2020.1 in /usr/local/lib/python3.10/dist-packages (from pandas>=1.1.5->zenml) (2023.4)\n",
            "Requirement already satisfied: numpy>=1.21.0 in /usr/local/lib/python3.10/dist-packages (from pandas>=1.1.5->zenml) (1.25.2)\n",
            "Requirement already satisfied: typing-extensions>=4.2.0 in /usr/local/lib/python3.10/dist-packages (from pydantic<1.11,>=1.9.0->zenml) (4.10.0)\n",
            "Requirement already satisfied: six>=1.5 in /usr/local/lib/python3.10/dist-packages (from python-dateutil<3.0.0,>=2.8.1->zenml) (1.16.0)\n",
            "Requirement already satisfied: markdown-it-py>=2.2.0 in /usr/local/lib/python3.10/dist-packages (from rich[jupyter]>=12.0.0->zenml) (3.0.0)\n",
            "Requirement already satisfied: pygments<3.0.0,>=2.13.0 in /usr/local/lib/python3.10/dist-packages (from rich[jupyter]>=12.0.0->zenml) (2.16.1)\n",
            "Requirement already satisfied: ipywidgets<9,>=7.5.1 in /usr/local/lib/python3.10/dist-packages (from rich[jupyter]>=12.0.0->zenml) (7.7.1)\n",
            "Requirement already satisfied: azure-core<2.0.0,>=1.26.2 in /usr/local/lib/python3.10/dist-packages (from azure-mgmt-core<2.0.0,>=1.3.2->azure-mgmt-resource>=21.0.0->zenml) (1.30.1)\n",
            "Requirement already satisfied: smmap<6,>=3.0.1 in /usr/local/lib/python3.10/dist-packages (from gitdb<5,>=4.0.1->gitpython<4.0.0,>=3.1.18->zenml) (5.0.1)\n",
            "Requirement already satisfied: ipykernel>=4.5.1 in /usr/local/lib/python3.10/dist-packages (from ipywidgets<9,>=7.5.1->rich[jupyter]>=12.0.0->zenml) (5.5.6)\n",
            "Requirement already satisfied: ipython-genutils~=0.2.0 in /usr/local/lib/python3.10/dist-packages (from ipywidgets<9,>=7.5.1->rich[jupyter]>=12.0.0->zenml) (0.2.0)\n",
            "Requirement already satisfied: traitlets>=4.3.1 in /usr/local/lib/python3.10/dist-packages (from ipywidgets<9,>=7.5.1->rich[jupyter]>=12.0.0->zenml) (5.7.1)\n",
            "Requirement already satisfied: widgetsnbextension~=3.6.0 in /usr/local/lib/python3.10/dist-packages (from ipywidgets<9,>=7.5.1->rich[jupyter]>=12.0.0->zenml) (3.6.6)\n",
            "Requirement already satisfied: ipython>=4.0.0 in /usr/local/lib/python3.10/dist-packages (from ipywidgets<9,>=7.5.1->rich[jupyter]>=12.0.0->zenml) (7.34.0)\n",
            "Requirement already satisfied: jupyterlab-widgets>=1.0.0 in /usr/local/lib/python3.10/dist-packages (from ipywidgets<9,>=7.5.1->rich[jupyter]>=12.0.0->zenml) (3.0.10)\n",
            "Requirement already satisfied: mdurl~=0.1 in /usr/local/lib/python3.10/dist-packages (from markdown-it-py>=2.2.0->rich[jupyter]>=12.0.0->zenml) (0.1.2)\n",
            "Requirement already satisfied: charset-normalizer<4,>=2 in /usr/local/lib/python3.10/dist-packages (from requests>=2.26.0->docker<6.2.0,>=6.1.0->zenml) (3.3.2)\n",
            "Requirement already satisfied: idna<4,>=2.5 in /usr/local/lib/python3.10/dist-packages (from requests>=2.26.0->docker<6.2.0,>=6.1.0->zenml) (3.6)\n",
            "Requirement already satisfied: certifi>=2017.4.17 in /usr/local/lib/python3.10/dist-packages (from requests>=2.26.0->docker<6.2.0,>=6.1.0->zenml) (2024.2.2)\n",
            "Requirement already satisfied: greenlet!=0.4.17 in /usr/local/lib/python3.10/dist-packages (from SQLAlchemy>=1.3->sqlalchemy_utils==0.38.3->zenml) (3.0.3)\n",
            "Requirement already satisfied: decorator>=3.4.0 in /usr/local/lib/python3.10/dist-packages (from validators<0.19,>=0.18->click-params<0.4.0,>=0.3.0->zenml) (4.4.2)\n",
            "Requirement already satisfied: MarkupSafe>=0.9.2 in /usr/local/lib/python3.10/dist-packages (from Mako->alembic<1.9.0,>=1.8.1->zenml) (2.1.5)\n",
            "Requirement already satisfied: jupyter-client in /usr/local/lib/python3.10/dist-packages (from ipykernel>=4.5.1->ipywidgets<9,>=7.5.1->rich[jupyter]>=12.0.0->zenml) (6.1.12)\n",
            "Requirement already satisfied: tornado>=4.2 in /usr/local/lib/python3.10/dist-packages (from ipykernel>=4.5.1->ipywidgets<9,>=7.5.1->rich[jupyter]>=12.0.0->zenml) (6.3.3)\n",
            "Requirement already satisfied: setuptools>=18.5 in /usr/local/lib/python3.10/dist-packages (from ipython>=4.0.0->ipywidgets<9,>=7.5.1->rich[jupyter]>=12.0.0->zenml) (67.7.2)\n",
            "Requirement already satisfied: jedi>=0.16 in /usr/local/lib/python3.10/dist-packages (from ipython>=4.0.0->ipywidgets<9,>=7.5.1->rich[jupyter]>=12.0.0->zenml) (0.19.1)\n",
            "Requirement already satisfied: pickleshare in /usr/local/lib/python3.10/dist-packages (from ipython>=4.0.0->ipywidgets<9,>=7.5.1->rich[jupyter]>=12.0.0->zenml) (0.7.5)\n",
            "Requirement already satisfied: prompt-toolkit!=3.0.0,!=3.0.1,<3.1.0,>=2.0.0 in /usr/local/lib/python3.10/dist-packages (from ipython>=4.0.0->ipywidgets<9,>=7.5.1->rich[jupyter]>=12.0.0->zenml) (3.0.43)\n",
            "Requirement already satisfied: backcall in /usr/local/lib/python3.10/dist-packages (from ipython>=4.0.0->ipywidgets<9,>=7.5.1->rich[jupyter]>=12.0.0->zenml) (0.2.0)\n",
            "Requirement already satisfied: matplotlib-inline in /usr/local/lib/python3.10/dist-packages (from ipython>=4.0.0->ipywidgets<9,>=7.5.1->rich[jupyter]>=12.0.0->zenml) (0.1.6)\n",
            "Requirement already satisfied: pexpect>4.3 in /usr/local/lib/python3.10/dist-packages (from ipython>=4.0.0->ipywidgets<9,>=7.5.1->rich[jupyter]>=12.0.0->zenml) (4.9.0)\n",
            "Requirement already satisfied: notebook>=4.4.1 in /usr/local/lib/python3.10/dist-packages (from widgetsnbextension~=3.6.0->ipywidgets<9,>=7.5.1->rich[jupyter]>=12.0.0->zenml) (6.5.5)\n",
            "Requirement already satisfied: parso<0.9.0,>=0.8.3 in /usr/local/lib/python3.10/dist-packages (from jedi>=0.16->ipython>=4.0.0->ipywidgets<9,>=7.5.1->rich[jupyter]>=12.0.0->zenml) (0.8.3)\n",
            "Requirement already satisfied: jinja2 in /usr/local/lib/python3.10/dist-packages (from notebook>=4.4.1->widgetsnbextension~=3.6.0->ipywidgets<9,>=7.5.1->rich[jupyter]>=12.0.0->zenml) (3.1.3)\n",
            "Requirement already satisfied: pyzmq<25,>=17 in /usr/local/lib/python3.10/dist-packages (from notebook>=4.4.1->widgetsnbextension~=3.6.0->ipywidgets<9,>=7.5.1->rich[jupyter]>=12.0.0->zenml) (23.2.1)\n",
            "Requirement already satisfied: argon2-cffi in /usr/local/lib/python3.10/dist-packages (from notebook>=4.4.1->widgetsnbextension~=3.6.0->ipywidgets<9,>=7.5.1->rich[jupyter]>=12.0.0->zenml) (23.1.0)\n",
            "Requirement already satisfied: jupyter-core>=4.6.1 in /usr/local/lib/python3.10/dist-packages (from notebook>=4.4.1->widgetsnbextension~=3.6.0->ipywidgets<9,>=7.5.1->rich[jupyter]>=12.0.0->zenml) (5.7.2)\n",
            "Requirement already satisfied: nbformat in /usr/local/lib/python3.10/dist-packages (from notebook>=4.4.1->widgetsnbextension~=3.6.0->ipywidgets<9,>=7.5.1->rich[jupyter]>=12.0.0->zenml) (5.10.3)\n",
            "Requirement already satisfied: nbconvert>=5 in /usr/local/lib/python3.10/dist-packages (from notebook>=4.4.1->widgetsnbextension~=3.6.0->ipywidgets<9,>=7.5.1->rich[jupyter]>=12.0.0->zenml) (6.5.4)\n",
            "Requirement already satisfied: nest-asyncio>=1.5 in /usr/local/lib/python3.10/dist-packages (from notebook>=4.4.1->widgetsnbextension~=3.6.0->ipywidgets<9,>=7.5.1->rich[jupyter]>=12.0.0->zenml) (1.6.0)\n",
            "Requirement already satisfied: Send2Trash>=1.8.0 in /usr/local/lib/python3.10/dist-packages (from notebook>=4.4.1->widgetsnbextension~=3.6.0->ipywidgets<9,>=7.5.1->rich[jupyter]>=12.0.0->zenml) (1.8.2)\n",
            "Requirement already satisfied: terminado>=0.8.3 in /usr/local/lib/python3.10/dist-packages (from notebook>=4.4.1->widgetsnbextension~=3.6.0->ipywidgets<9,>=7.5.1->rich[jupyter]>=12.0.0->zenml) (0.18.1)\n",
            "Requirement already satisfied: prometheus-client in /usr/local/lib/python3.10/dist-packages (from notebook>=4.4.1->widgetsnbextension~=3.6.0->ipywidgets<9,>=7.5.1->rich[jupyter]>=12.0.0->zenml) (0.20.0)\n",
            "Requirement already satisfied: nbclassic>=0.4.7 in /usr/local/lib/python3.10/dist-packages (from notebook>=4.4.1->widgetsnbextension~=3.6.0->ipywidgets<9,>=7.5.1->rich[jupyter]>=12.0.0->zenml) (1.0.0)\n",
            "Requirement already satisfied: ptyprocess>=0.5 in /usr/local/lib/python3.10/dist-packages (from pexpect>4.3->ipython>=4.0.0->ipywidgets<9,>=7.5.1->rich[jupyter]>=12.0.0->zenml) (0.7.0)\n",
            "Requirement already satisfied: wcwidth in /usr/local/lib/python3.10/dist-packages (from prompt-toolkit!=3.0.0,!=3.0.1,<3.1.0,>=2.0.0->ipython>=4.0.0->ipywidgets<9,>=7.5.1->rich[jupyter]>=12.0.0->zenml) (0.2.13)\n",
            "Requirement already satisfied: platformdirs>=2.5 in /usr/local/lib/python3.10/dist-packages (from jupyter-core>=4.6.1->notebook>=4.4.1->widgetsnbextension~=3.6.0->ipywidgets<9,>=7.5.1->rich[jupyter]>=12.0.0->zenml) (4.2.0)\n",
            "Requirement already satisfied: jupyter-server>=1.8 in /usr/local/lib/python3.10/dist-packages (from nbclassic>=0.4.7->notebook>=4.4.1->widgetsnbextension~=3.6.0->ipywidgets<9,>=7.5.1->rich[jupyter]>=12.0.0->zenml) (1.24.0)\n",
            "Requirement already satisfied: notebook-shim>=0.2.3 in /usr/local/lib/python3.10/dist-packages (from nbclassic>=0.4.7->notebook>=4.4.1->widgetsnbextension~=3.6.0->ipywidgets<9,>=7.5.1->rich[jupyter]>=12.0.0->zenml) (0.2.4)\n",
            "Requirement already satisfied: lxml in /usr/local/lib/python3.10/dist-packages (from nbconvert>=5->notebook>=4.4.1->widgetsnbextension~=3.6.0->ipywidgets<9,>=7.5.1->rich[jupyter]>=12.0.0->zenml) (4.9.4)\n",
            "Requirement already satisfied: beautifulsoup4 in /usr/local/lib/python3.10/dist-packages (from nbconvert>=5->notebook>=4.4.1->widgetsnbextension~=3.6.0->ipywidgets<9,>=7.5.1->rich[jupyter]>=12.0.0->zenml) (4.12.3)\n",
            "Requirement already satisfied: bleach in /usr/local/lib/python3.10/dist-packages (from nbconvert>=5->notebook>=4.4.1->widgetsnbextension~=3.6.0->ipywidgets<9,>=7.5.1->rich[jupyter]>=12.0.0->zenml) (6.1.0)\n",
            "Requirement already satisfied: defusedxml in /usr/local/lib/python3.10/dist-packages (from nbconvert>=5->notebook>=4.4.1->widgetsnbextension~=3.6.0->ipywidgets<9,>=7.5.1->rich[jupyter]>=12.0.0->zenml) (0.7.1)\n",
            "Requirement already satisfied: entrypoints>=0.2.2 in /usr/local/lib/python3.10/dist-packages (from nbconvert>=5->notebook>=4.4.1->widgetsnbextension~=3.6.0->ipywidgets<9,>=7.5.1->rich[jupyter]>=12.0.0->zenml) (0.4)\n",
            "Requirement already satisfied: jupyterlab-pygments in /usr/local/lib/python3.10/dist-packages (from nbconvert>=5->notebook>=4.4.1->widgetsnbextension~=3.6.0->ipywidgets<9,>=7.5.1->rich[jupyter]>=12.0.0->zenml) (0.3.0)\n",
            "Requirement already satisfied: mistune<2,>=0.8.1 in /usr/local/lib/python3.10/dist-packages (from nbconvert>=5->notebook>=4.4.1->widgetsnbextension~=3.6.0->ipywidgets<9,>=7.5.1->rich[jupyter]>=12.0.0->zenml) (0.8.4)\n",
            "Requirement already satisfied: nbclient>=0.5.0 in /usr/local/lib/python3.10/dist-packages (from nbconvert>=5->notebook>=4.4.1->widgetsnbextension~=3.6.0->ipywidgets<9,>=7.5.1->rich[jupyter]>=12.0.0->zenml) (0.10.0)\n",
            "Requirement already satisfied: pandocfilters>=1.4.1 in /usr/local/lib/python3.10/dist-packages (from nbconvert>=5->notebook>=4.4.1->widgetsnbextension~=3.6.0->ipywidgets<9,>=7.5.1->rich[jupyter]>=12.0.0->zenml) (1.5.1)\n",
            "Requirement already satisfied: tinycss2 in /usr/local/lib/python3.10/dist-packages (from nbconvert>=5->notebook>=4.4.1->widgetsnbextension~=3.6.0->ipywidgets<9,>=7.5.1->rich[jupyter]>=12.0.0->zenml) (1.2.1)\n",
            "Requirement already satisfied: fastjsonschema in /usr/local/lib/python3.10/dist-packages (from nbformat->notebook>=4.4.1->widgetsnbextension~=3.6.0->ipywidgets<9,>=7.5.1->rich[jupyter]>=12.0.0->zenml) (2.19.1)\n",
            "Requirement already satisfied: jsonschema>=2.6 in /usr/local/lib/python3.10/dist-packages (from nbformat->notebook>=4.4.1->widgetsnbextension~=3.6.0->ipywidgets<9,>=7.5.1->rich[jupyter]>=12.0.0->zenml) (4.19.2)\n",
            "Requirement already satisfied: argon2-cffi-bindings in /usr/local/lib/python3.10/dist-packages (from argon2-cffi->notebook>=4.4.1->widgetsnbextension~=3.6.0->ipywidgets<9,>=7.5.1->rich[jupyter]>=12.0.0->zenml) (21.2.0)\n",
            "Requirement already satisfied: attrs>=22.2.0 in /usr/local/lib/python3.10/dist-packages (from jsonschema>=2.6->nbformat->notebook>=4.4.1->widgetsnbextension~=3.6.0->ipywidgets<9,>=7.5.1->rich[jupyter]>=12.0.0->zenml) (23.2.0)\n",
            "Requirement already satisfied: jsonschema-specifications>=2023.03.6 in /usr/local/lib/python3.10/dist-packages (from jsonschema>=2.6->nbformat->notebook>=4.4.1->widgetsnbextension~=3.6.0->ipywidgets<9,>=7.5.1->rich[jupyter]>=12.0.0->zenml) (2023.12.1)\n",
            "Requirement already satisfied: referencing>=0.28.4 in /usr/local/lib/python3.10/dist-packages (from jsonschema>=2.6->nbformat->notebook>=4.4.1->widgetsnbextension~=3.6.0->ipywidgets<9,>=7.5.1->rich[jupyter]>=12.0.0->zenml) (0.34.0)\n",
            "Requirement already satisfied: rpds-py>=0.7.1 in /usr/local/lib/python3.10/dist-packages (from jsonschema>=2.6->nbformat->notebook>=4.4.1->widgetsnbextension~=3.6.0->ipywidgets<9,>=7.5.1->rich[jupyter]>=12.0.0->zenml) (0.18.0)\n",
            "Requirement already satisfied: anyio<4,>=3.1.0 in /usr/local/lib/python3.10/dist-packages (from jupyter-server>=1.8->nbclassic>=0.4.7->notebook>=4.4.1->widgetsnbextension~=3.6.0->ipywidgets<9,>=7.5.1->rich[jupyter]>=12.0.0->zenml) (3.7.1)\n",
            "Requirement already satisfied: cffi>=1.0.1 in /usr/local/lib/python3.10/dist-packages (from argon2-cffi-bindings->argon2-cffi->notebook>=4.4.1->widgetsnbextension~=3.6.0->ipywidgets<9,>=7.5.1->rich[jupyter]>=12.0.0->zenml) (1.16.0)\n",
            "Requirement already satisfied: soupsieve>1.2 in /usr/local/lib/python3.10/dist-packages (from beautifulsoup4->nbconvert>=5->notebook>=4.4.1->widgetsnbextension~=3.6.0->ipywidgets<9,>=7.5.1->rich[jupyter]>=12.0.0->zenml) (2.5)\n",
            "Requirement already satisfied: webencodings in /usr/local/lib/python3.10/dist-packages (from bleach->nbconvert>=5->notebook>=4.4.1->widgetsnbextension~=3.6.0->ipywidgets<9,>=7.5.1->rich[jupyter]>=12.0.0->zenml) (0.5.1)\n",
            "Requirement already satisfied: sniffio>=1.1 in /usr/local/lib/python3.10/dist-packages (from anyio<4,>=3.1.0->jupyter-server>=1.8->nbclassic>=0.4.7->notebook>=4.4.1->widgetsnbextension~=3.6.0->ipywidgets<9,>=7.5.1->rich[jupyter]>=12.0.0->zenml) (1.3.1)\n",
            "Requirement already satisfied: exceptiongroup in /usr/local/lib/python3.10/dist-packages (from anyio<4,>=3.1.0->jupyter-server>=1.8->nbclassic>=0.4.7->notebook>=4.4.1->widgetsnbextension~=3.6.0->ipywidgets<9,>=7.5.1->rich[jupyter]>=12.0.0->zenml) (1.2.0)\n",
            "Requirement already satisfied: pycparser in /usr/local/lib/python3.10/dist-packages (from cffi>=1.0.1->argon2-cffi-bindings->argon2-cffi->notebook>=4.4.1->widgetsnbextension~=3.6.0->ipywidgets<9,>=7.5.1->rich[jupyter]>=12.0.0->zenml) (2.21)\n",
            "\u001b[1;35mNumExpr defaulting to 2 threads.\u001b[0m\n",
            "\u001b[2K\u001b[32m⠧\u001b[0m Installing integrations...\n",
            "\u001b[1A\u001b[2KRequirement already satisfied: pyparsing in /usr/local/lib/python3.10/dist-packages (2.4.7)\n"
          ]
        }
      ],
      "source": [
        "%pip install \"zenml[server]\"\n",
        "%pip install zenml\n",
        "!zenml integration install sklearn -y\n",
        "%pip install pyparsing\n",
        "import IPython"
      ]
    },
    {
      "cell_type": "code",
      "execution_count": 22,
      "metadata": {
        "colab": {
          "base_uri": "https://localhost:8080/"
        },
        "id": "GvVlKu3gTIMl",
        "outputId": "9722b5a0-a164-4e36-c9da-00856e7e1b6f"
      },
      "outputs": [
        {
          "output_type": "stream",
          "name": "stdout",
          "text": [
            "Requirement already satisfied: pyngrok in /usr/local/lib/python3.10/dist-packages (7.1.6)\n",
            "Requirement already satisfied: PyYAML>=5.1 in /usr/local/lib/python3.10/dist-packages (from pyngrok) (6.0.1)\n",
            "Authtoken saved to configuration file: /root/.config/ngrok/ngrok.yml\n",
            "\u001b[1;35mNumExpr defaulting to 2 threads.\u001b[0m\n",
            "\u001b[?25l\u001b[32m⠋\u001b[0m Initializing ZenML repository at /content.\n",
            "\u001b[2K\u001b[1A\u001b[2K\u001b[32m⠹\u001b[0m Initializing ZenML repository at /content.\n",
            "\u001b[2K\u001b[1A\u001b[2K\u001b[32m⠼\u001b[0m Initializing ZenML repository at /content.\n",
            "\u001b[2K\u001b[1A\u001b[2K\u001b[32m⠴\u001b[0m Initializing ZenML repository at /content.\n",
            "\u001b[2K\u001b[1A\u001b[2K\u001b[32m⠦\u001b[0m Initializing ZenML repository at /content.\n",
            "\u001b[2K\u001b[1A\u001b[2K\u001b[32m⠧\u001b[0m Initializing ZenML repository at /content.\n",
            "\u001b[2K\u001b[1A\u001b[2K\u001b[32m⠇\u001b[0m Initializing ZenML repository at /content.\n",
            "\u001b[2K\u001b[1A\u001b[2K\u001b[32m⠏\u001b[0m Initializing ZenML repository at /content.\n",
            "\u001b[2K\u001b[1A\u001b[2K\u001b[32m⠋\u001b[0m Initializing ZenML repository at /content.\n",
            "\u001b[1;35mSetting the repo active workspace to 'default'.\u001b[0m\n",
            "\u001b[33mSetting the repo active stack to default.\u001b[0m\n",
            "\u001b[2K\u001b[1A\u001b[2K\u001b[2;36mZenML repository initialized at \u001b[0m\u001b[2;35m/\u001b[0m\u001b[2;95mcontent.\u001b[0m\n",
            "\u001b[2;32m⠋\u001b[0m\u001b[2;36m Initializing ZenML repository at /content.\u001b[0m\n",
            "\u001b[2K\u001b[1A\u001b[2K\u001b[32m⠋\u001b[0m Initializing ZenML repository at /content.\n",
            "\n",
            "\u001b[1A\u001b[2K\u001b[1A\u001b[2K\u001b[2;36mThe local active stack was initialized to \u001b[0m\u001b[2;32m'default'\u001b[0m\u001b[2;36m. This local configuration will only take effect \u001b[0m\n",
            "\u001b[2;36mwhen you're running ZenML from the initialized repository root, or from a subdirectory. For more \u001b[0m\n",
            "\u001b[2;36minformation on repositories and configurations, please visit \u001b[0m\n",
            "\u001b[2;4;94mhttps://docs.zenml.io/user-guide/starter-guide/understand-stacks.\u001b[0m\n"
          ]
        }
      ],
      "source": [
        "NGROK_TOKEN = \"NGROK_TOKEN\" #Once registred at NGROK, You will be provided with an access Token\n",
        "from zenml.environment import Environment\n",
        "\n",
        "if Environment.in_google_colab():\n",
        "  !pip install pyngrok\n",
        "  !ngrok authtoken {NGROK_TOKEN}\n",
        "\n",
        "!rm -rf .zen\n",
        "!zenml init\n"
      ]
    },
    {
      "cell_type": "code",
      "execution_count": 23,
      "metadata": {
        "id": "2Sj4sZi3b3Bf"
      },
      "outputs": [],
      "source": [
        "# Define the pattern to match the files\n",
        "pattern = '/content/defi_ai_night_mlops/ch??_eeg_features_label.csv'\n",
        "\n",
        "# Use glob to find all files matching the pattern\n",
        "file_paths = glob.glob(pattern)\n",
        "\n",
        "# Initialize a list to hold DataFrames\n",
        "dfs = []\n",
        "\n",
        "# Loop through the file paths, reading each file into a DataFrame\n",
        "for file_path in file_paths:\n",
        "    df = pd.read_csv(file_path)\n",
        "    # Use regex to extract the patient number from the filename\n",
        "    patient_number = re.search(r'ch(\\d+)_eeg', file_path)\n",
        "    if patient_number:\n",
        "        patient_id = int(patient_number.group(1))\n",
        "    else:\n",
        "        patient_id = -1  # Example default value\n",
        "\n",
        "    # Insert the 'patient' column as the first column\n",
        "    df.insert(0, 'patient', patient_id)\n",
        "\n",
        "    dfs.append(df)\n",
        "\n",
        "# Concatenate all DataFrames into a single DataFrame, if needed\n",
        "final_df = pd.concat(dfs, ignore_index=True)\n",
        "final_df.to_csv('final_df.csv')"
      ]
    },
    {
      "cell_type": "code",
      "execution_count": 24,
      "metadata": {
        "id": "sMUcyBwzPhVO"
      },
      "outputs": [],
      "source": [
        "@step\n",
        "def import_epilepsy_data() -> pd.DataFrame:\n",
        "  df=pd.read_csv(\"final_df.csv\")\n",
        "  df.info()\n",
        "  nb=df['patient'].nunique()\n",
        "  print(f\"We have {nb}  patients in epilepsy_data.\")\n",
        "  return df\n",
        "\n"
      ]
    },
    {
      "cell_type": "code",
      "execution_count": 25,
      "metadata": {
        "id": "s3v83AKao10F"
      },
      "outputs": [],
      "source": [
        "@step\n",
        "def split_and_balance_data(df: pd.DataFrame, test_size: float = 0.2, valid_size: float = 0.3, random_state: int = 42) -> Tuple[pd.DataFrame, pd.DataFrame, pd.DataFrame, pd.DataFrame]:\n",
        "    \"\"\"\n",
        "    Splits the data into train, validation, and test sets, and balances the training set.\n",
        "\n",
        "    :param df: Input DataFrame.\n",
        "    :param test_size: Proportion of the dataset to include in the test split.\n",
        "    :param valid_size: Proportion of the dataset to include in the validation split, from the non-test split.\n",
        "    :param random_state: Random state for reproducibility.\n",
        "    :return: A tuple containing balanced training, validation, and test DataFrames.\n",
        "    \"\"\"\n",
        "\n",
        "    # Shuffling and resetting the index of the dataframe\n",
        "    df_data = df.sample(frac=1, random_state=random_state).reset_index(drop=True)\n",
        "\n",
        "    # Splitting the data into validation/test and training sets\n",
        "    df_valid_test = df_data.sample(frac=test_size, random_state=random_state)\n",
        "    df_train_all = df_data.drop(df_valid_test.index)\n",
        "\n",
        "    # Further splitting the validation/test set into validation and test sets\n",
        "    df_test = df_valid_test.sample(frac=0.5, random_state=random_state)\n",
        "    df_valid = df_valid_test.drop(df_test.index)\n",
        "\n",
        "    # Balancing the training set\n",
        "    rows_pos = df_train_all.label == 1\n",
        "    df_train_pos = df_train_all.loc[rows_pos]\n",
        "    df_train_neg = df_train_all.loc[~rows_pos]\n",
        "    n = min(len(df_train_pos), len(df_train_neg))\n",
        "\n",
        "    df_train_balanced = pd.concat([\n",
        "        df_train_pos.sample(n=n, random_state=random_state),\n",
        "        df_train_neg.sample(n=n, random_state=random_state)\n",
        "    ], ignore_index=True).sample(frac=1, random_state=random_state).reset_index(drop=True)\n",
        "\n",
        "    # Returning the balanced training set, validation set, and test set\n",
        "    return df_train_all, df_train_balanced, df_valid, df_test\n"
      ]
    },
    {
      "cell_type": "code",
      "execution_count": 26,
      "metadata": {
        "id": "1Gp84dGN_soh"
      },
      "outputs": [],
      "source": [
        "@step\n",
        "def prepare_and_scale_data(df_train_all: pd.DataFrame, df_train: pd.DataFrame,df_valid: pd.DataFrame,  random_state: int = 42) -> Tuple[np.ndarray, np.ndarray, np.ndarray, np.ndarray, StandardScaler]:\n",
        "\n",
        "    cols_input = list(df_train_all.columns)\n",
        "    cols_input.remove('patient')\n",
        "    cols_input.remove('label')\n",
        "\n",
        "    # Create the feature matrices and target vectors\n",
        "    X_train = df_train[cols_input].values\n",
        "    X_train_all = df_train_all[cols_input].values\n",
        "    X_valid = df_valid[cols_input].values\n",
        "\n",
        "    y_train = df_train['label'].values\n",
        "    y_valid = df_valid['label'].values\n",
        "\n",
        "    print('Training All shapes:', X_train_all.shape)\n",
        "    print('Training shapes:', X_train.shape, y_train.shape)\n",
        "    print('Validation shapes:', X_valid.shape, y_valid.shape)\n",
        "\n",
        "    # Scale the feature matrices\n",
        "    scaler = StandardScaler()\n",
        "    scaler.fit(X_train_all)  # Fit the scaler using the full training dataset\n",
        "\n",
        "    # Save the scaler to disk\n",
        "    scalerfile = 'scaler.sav'\n",
        "    pickle.dump(scaler, open(scalerfile, 'wb'))\n",
        "\n",
        "    # Load the scaler from disk (demonstration purposes, typically you would do this in a different part of your workflow)\n",
        "    scaler = pickle.load(open(scalerfile, 'rb'))\n",
        "\n",
        "    # Transform the feature matrices using the loaded scaler\n",
        "    X_train_tf = scaler.transform(X_train)\n",
        "    X_valid_tf = scaler.transform(X_valid)\n",
        "\n",
        "    return X_train_tf, X_valid_tf, y_train, y_valid, scaler\n"
      ]
    },
    {
      "cell_type": "code",
      "execution_count": 27,
      "metadata": {
        "ExecuteTime": {
          "end_time": "2019-05-08T15:13:52.971854Z",
          "start_time": "2019-05-08T15:13:52.951028Z"
        },
        "id": "XAO-4S_H1foA"
      },
      "outputs": [],
      "source": [
        "@step\n",
        "def calc_specificity(y_actual: np.ndarray, y_pred: np.ndarray, thresh: float) -> float:\n",
        "    \"\"\"\n",
        "    Calculates the specificity of a classification model.\n",
        "\n",
        "    Parameters:\n",
        "    - y_actual: np.ndarray. Array of actual labels.\n",
        "    - y_pred: np.ndarray. Array of predicted probabilities.\n",
        "    - thresh: float. Probability threshold for classifying predictions.\n",
        "\n",
        "    Returns:\n",
        "    - Specificity score as a float.\n",
        "    \"\"\"\n",
        "    true_negatives = sum((y_pred < thresh) & (y_actual == 0))\n",
        "    condition_negatives = sum(y_actual == 0)\n",
        "    specificity = true_negatives / condition_negatives if condition_negatives else 0\n",
        "    return specificity\n"
      ]
    },
    {
      "cell_type": "code",
      "execution_count": 28,
      "metadata": {
        "id": "2nU2KfrOAzvC"
      },
      "outputs": [],
      "source": [
        "@step\n",
        "def calc_prevalence(y_actual: np.ndarray) -> float:\n",
        "    \"\"\"\n",
        "    Calculates the prevalence of positive cases in a dataset.\n",
        "\n",
        "    Parameters:\n",
        "    - y_actual: np.ndarray. Array of actual labels.\n",
        "\n",
        "    Returns:\n",
        "    - Prevalence score as a float.\n",
        "    \"\"\"\n",
        "    return np.mean(y_actual)\n"
      ]
    },
    {
      "cell_type": "code",
      "execution_count": 30,
      "metadata": {
        "id": "ktXYgcqLA4fh"
      },
      "outputs": [],
      "source": [
        "@step\n",
        "def print_report(y_actual: np.ndarray, y_pred: np.ndarray, thresh: float = 0.5) -> dict:\n",
        "\n",
        "    metrics = {\n",
        "        'AUC': roc_auc_score(y_actual, y_pred),\n",
        "        'Accuracy': accuracy_score(y_actual, (y_pred > thresh)),\n",
        "        'Recall': recall_score(y_actual, (y_pred > thresh)),\n",
        "        'Precision': precision_score(y_actual, (y_pred > thresh)),\n",
        "        'Specificity': calc_specificity(y_actual, y_pred, thresh),\n",
        "        'Prevalence': calc_prevalence(y_actual)\n",
        "    }\n",
        "\n",
        "    for metric, value in metrics.items():\n",
        "        print(f'{metric}: {value:.3f}')\n",
        "\n",
        "    print(' ')\n",
        "    return metrics"
      ]
    },
    {
      "cell_type": "code",
      "execution_count": 31,
      "metadata": {
        "id": "Lkn8qXQWAd4i"
      },
      "outputs": [],
      "source": [
        "@step\n",
        "# Corrected function signature with proper type hinting\n",
        "def train_and_evaluate_xgboost(X_train_tf: np.ndarray, y_train: np.ndarray, X_valid_tf: np.ndarray, y_valid: np.ndarray, thresh: float = 0.5) -> Tuple[XGBClassifier, dict, dict]:\n",
        "    \"\"\"\n",
        "    Trains an XGBoost model and evaluates its performance on both training and validation datasets.\n",
        "    \"\"\"\n",
        "    # Model training\n",
        "    xgbc = XGBClassifier(use_label_encoder=False, eval_metric='logloss')\n",
        "    xgbc.fit(X_train_tf, y_train)\n",
        "\n",
        "    # Predictions\n",
        "    y_train_preds = xgbc.predict_proba(X_train_tf)[:, 1]\n",
        "    y_valid_preds = xgbc.predict_proba(X_valid_tf)[:, 1]\n",
        "\n",
        "    # Evaluation (assuming print_report is a previously defined function that returns metrics)\n",
        "    print('Xtreme Gradient Boosting Classifier Performance:')\n",
        "    print('Training:')\n",
        "    train_metrics = print_report(y_train, y_train_preds, thresh)  # Ensure print_report is defined or imported\n",
        "\n",
        "    print('Validation:')\n",
        "    valid_metrics = print_report(y_valid, y_valid_preds, thresh)\n",
        "\n",
        "    return xgbc, train_metrics, valid_metrics\n"
      ]
    },
    {
      "cell_type": "code",
      "execution_count": 32,
      "metadata": {
        "id": "6qb0HfzPfkPr"
      },
      "outputs": [],
      "source": [
        "@step\n",
        "def explain_model(df_train: np.ndarray, xgbc: XGBClassifier) -> np.ndarray:\n",
        "\n",
        "    # Define the features matrix X and labels y if necessary\n",
        "    X = df_train.copy()\n",
        "    X = pd.DataFrame(X)\n",
        "\n",
        "    # Initialize SHAP JS visualization\n",
        "    shap.initjs()\n",
        "\n",
        "    # Use the provided XGBoost classifier model\n",
        "    model = xgbc\n",
        "\n",
        "    # Explain the model's predictions using SHAP values\n",
        "    explainer = shap.TreeExplainer(model)\n",
        "    shap_values = explainer.shap_values(X)\n",
        "\n",
        "    return shap_values"
      ]
    },
    {
      "cell_type": "code",
      "execution_count": 33,
      "metadata": {
        "colab": {
          "base_uri": "https://localhost:8080/"
        },
        "id": "CH3UrZhWX87b",
        "outputId": "745a4848-b316-47bf-cdec-55480b7f0c4b"
      },
      "outputs": [
        {
          "output_type": "stream",
          "name": "stdout",
          "text": [
            "\u001b[1;35mInitiating a new run for the pipeline: \u001b[0m\u001b[1;36mepilepsy_pipeline\u001b[1;35m.\u001b[0m\n",
            "\u001b[1;35mReusing registered pipeline version: \u001b[0m\u001b[1;36m(version: 1)\u001b[1;35m.\u001b[0m\n",
            "\u001b[1;35mExecuting a new run.\u001b[0m\n",
            "\u001b[1;35mUsing user: \u001b[0m\u001b[1;36mdefault\u001b[1;35m\u001b[0m\n",
            "\u001b[1;35mUsing stack: \u001b[0m\u001b[1;36mdefault\u001b[1;35m\u001b[0m\n",
            "\u001b[1;35m  orchestrator: \u001b[0m\u001b[1;36mdefault\u001b[1;35m\u001b[0m\n",
            "\u001b[1;35m  artifact_store: \u001b[0m\u001b[1;36mdefault\u001b[1;35m\u001b[0m\n",
            "\u001b[1;35mYou can visualize your pipeline runs in the \u001b[0m\u001b[1;36mZenML Dashboard\u001b[1;35m. In order to try it locally, please run \u001b[0m\u001b[1;36mzenml up\u001b[1;35m.\u001b[0m\n",
            "\u001b[1;35mUsing cached version of \u001b[0m\u001b[1;36mimport_epilepsy_data\u001b[1;35m.\u001b[0m\n",
            "\u001b[1;35mStep \u001b[0m\u001b[1;36mimport_epilepsy_data\u001b[1;35m has started.\u001b[0m\n",
            "\u001b[1;35mUsing cached version of \u001b[0m\u001b[1;36msplit_and_balance_data\u001b[1;35m.\u001b[0m\n",
            "\u001b[1;35mStep \u001b[0m\u001b[1;36msplit_and_balance_data\u001b[1;35m has started.\u001b[0m\n",
            "\u001b[1;35mUsing cached version of \u001b[0m\u001b[1;36mprepare_and_scale_data\u001b[1;35m.\u001b[0m\n",
            "\u001b[1;35mStep \u001b[0m\u001b[1;36mprepare_and_scale_data\u001b[1;35m has started.\u001b[0m\n",
            "\u001b[1;35mUsing cached version of \u001b[0m\u001b[1;36mtrain_and_evaluate_xgboost\u001b[1;35m.\u001b[0m\n",
            "\u001b[1;35mStep \u001b[0m\u001b[1;36mtrain_and_evaluate_xgboost\u001b[1;35m has started.\u001b[0m\n",
            "\u001b[1;35mUsing cached version of \u001b[0m\u001b[1;36mexplain_model\u001b[1;35m.\u001b[0m\n",
            "\u001b[1;35mStep \u001b[0m\u001b[1;36mexplain_model\u001b[1;35m has started.\u001b[0m\n",
            "\u001b[1;35mPipeline run has finished in \u001b[0m\u001b[1;36m1.594s\u001b[1;35m.\u001b[0m\n"
          ]
        }
      ],
      "source": [
        "@pipeline\n",
        "def epilepsy_pipeline():\n",
        "    epilepsy_data = import_epilepsy_data()\n",
        "    # Correct expectation of four returned datasets from the split_and_balance_data function\n",
        "    df_train_all, df_train_balanced, df_valid, df_test = split_and_balance_data(epilepsy_data)\n",
        "\n",
        "    # Ensure subsequent functions accept and process these datasets correctly\n",
        "    X_train_tf, X_valid_tf, y_train, y_valid, scaler = prepare_and_scale_data(df_train_all, df_train_balanced, df_valid)\n",
        "    xgbc, train_metrics, valid_metrics = train_and_evaluate_xgboost(X_train_tf, y_train, X_valid_tf, y_valid)\n",
        "    explain_model(X_train_tf, xgbc)\n",
        "\n",
        "epilepsy_pipeline = epilepsy_pipeline()"
      ]
    },
    {
      "cell_type": "code",
      "execution_count": 34,
      "metadata": {
        "colab": {
          "base_uri": "https://localhost:8080/"
        },
        "id": "zLNUamukdCUl",
        "outputId": "20840da5-8d52-454a-f283-be9453599b2a"
      },
      "outputs": [
        {
          "output_type": "stream",
          "name": "stderr",
          "text": [
            "INFO:pyngrok.ngrok:Opening tunnel named: http-8237-b4b103a2-9486-47e4-a803-47623aef1b95\n"
          ]
        },
        {
          "output_type": "stream",
          "name": "stdout",
          "text": [
            "\u001b[1;35mOpening tunnel named: http-8237-b4b103a2-9486-47e4-a803-47623aef1b95\u001b[0m\n"
          ]
        },
        {
          "output_type": "stream",
          "name": "stderr",
          "text": [
            "INFO:pyngrok.process.ngrok:t=2024-03-31T04:49:45+0000 lvl=info msg=\"no configuration paths supplied\"\n"
          ]
        },
        {
          "output_type": "stream",
          "name": "stdout",
          "text": [
            "\u001b[1;35mt=2024-03-31T04:49:45+0000 lvl=info msg=\"no configuration paths supplied\"\u001b[0m\n"
          ]
        },
        {
          "output_type": "stream",
          "name": "stderr",
          "text": [
            "INFO:pyngrok.process.ngrok:t=2024-03-31T04:49:45+0000 lvl=info msg=\"using configuration at default config path\" path=/root/.config/ngrok/ngrok.yml\n"
          ]
        },
        {
          "output_type": "stream",
          "name": "stdout",
          "text": [
            "\u001b[1;35mt=2024-03-31T04:49:45+0000 lvl=info msg=\"using configuration at default config path\" path=/root/.config/ngrok/ngrok.yml\u001b[0m\n"
          ]
        },
        {
          "output_type": "stream",
          "name": "stderr",
          "text": [
            "INFO:pyngrok.process.ngrok:t=2024-03-31T04:49:45+0000 lvl=info msg=\"open config file\" path=/root/.config/ngrok/ngrok.yml err=nil\n"
          ]
        },
        {
          "output_type": "stream",
          "name": "stdout",
          "text": [
            "\u001b[1;35mt=2024-03-31T04:49:45+0000 lvl=info msg=\"open config file\" path=/root/.config/ngrok/ngrok.yml err=nil\u001b[0m\n"
          ]
        },
        {
          "output_type": "stream",
          "name": "stderr",
          "text": [
            "INFO:pyngrok.process.ngrok:t=2024-03-31T04:49:45+0000 lvl=info msg=\"starting web service\" obj=web addr=127.0.0.1:4040 allow_hosts=[]\n"
          ]
        },
        {
          "output_type": "stream",
          "name": "stdout",
          "text": [
            "\u001b[1;35mt=2024-03-31T04:49:45+0000 lvl=info msg=\"starting web service\" obj=web addr=127.0.0.1:4040 allow_hosts=[]\u001b[0m\n"
          ]
        },
        {
          "output_type": "stream",
          "name": "stderr",
          "text": [
            "INFO:pyngrok.process.ngrok:t=2024-03-31T04:49:45+0000 lvl=info msg=\"client session established\" obj=tunnels.session\n"
          ]
        },
        {
          "output_type": "stream",
          "name": "stdout",
          "text": [
            "\u001b[1;35mt=2024-03-31T04:49:45+0000 lvl=info msg=\"client session established\" obj=tunnels.session\u001b[0m\n"
          ]
        },
        {
          "output_type": "stream",
          "name": "stderr",
          "text": [
            "INFO:pyngrok.process.ngrok:t=2024-03-31T04:49:45+0000 lvl=info msg=\"tunnel session started\" obj=tunnels.session\n"
          ]
        },
        {
          "output_type": "stream",
          "name": "stdout",
          "text": [
            "\u001b[1;35mt=2024-03-31T04:49:45+0000 lvl=info msg=\"tunnel session started\" obj=tunnels.session\u001b[0m\n"
          ]
        },
        {
          "output_type": "stream",
          "name": "stderr",
          "text": [
            "INFO:pyngrok.process.ngrok:t=2024-03-31T04:49:45+0000 lvl=info msg=start pg=/api/tunnels id=96ff16d5999320e7\n"
          ]
        },
        {
          "output_type": "stream",
          "name": "stdout",
          "text": [
            "\u001b[1;35mt=2024-03-31T04:49:45+0000 lvl=info msg=start pg=/api/tunnels id=96ff16d5999320e7\u001b[0m\n"
          ]
        },
        {
          "output_type": "stream",
          "name": "stderr",
          "text": [
            "INFO:pyngrok.process.ngrok:t=2024-03-31T04:49:45+0000 lvl=info msg=end pg=/api/tunnels id=96ff16d5999320e7 status=200 dur=696.708µs\n"
          ]
        },
        {
          "output_type": "stream",
          "name": "stdout",
          "text": [
            "\u001b[1;35mt=2024-03-31T04:49:45+0000 lvl=info msg=end pg=/api/tunnels id=96ff16d5999320e7 status=200 dur=696.708µs\u001b[0m\n"
          ]
        },
        {
          "output_type": "stream",
          "name": "stderr",
          "text": [
            "INFO:pyngrok.process.ngrok:t=2024-03-31T04:49:45+0000 lvl=info msg=start pg=/api/tunnels id=fbd07cbc6083d092\n"
          ]
        },
        {
          "output_type": "stream",
          "name": "stdout",
          "text": [
            "\u001b[1;35mt=2024-03-31T04:49:45+0000 lvl=info msg=start pg=/api/tunnels id=fbd07cbc6083d092\u001b[0m\n"
          ]
        },
        {
          "output_type": "stream",
          "name": "stderr",
          "text": [
            "INFO:pyngrok.process.ngrok:t=2024-03-31T04:49:45+0000 lvl=info msg=end pg=/api/tunnels id=fbd07cbc6083d092 status=200 dur=118.192µs\n"
          ]
        },
        {
          "output_type": "stream",
          "name": "stdout",
          "text": [
            "\u001b[1;35mt=2024-03-31T04:49:45+0000 lvl=info msg=end pg=/api/tunnels id=fbd07cbc6083d092 status=200 dur=118.192µs\u001b[0m\n"
          ]
        },
        {
          "output_type": "stream",
          "name": "stderr",
          "text": [
            "INFO:pyngrok.process.ngrok:t=2024-03-31T04:49:45+0000 lvl=info msg=start pg=/api/tunnels id=98c386d8aeecb83b\n"
          ]
        },
        {
          "output_type": "stream",
          "name": "stdout",
          "text": [
            "\u001b[1;35mt=2024-03-31T04:49:45+0000 lvl=info msg=start pg=/api/tunnels id=98c386d8aeecb83b\u001b[0m\n"
          ]
        },
        {
          "output_type": "stream",
          "name": "stderr",
          "text": [
            "INFO:pyngrok.process.ngrok:t=2024-03-31T04:49:45+0000 lvl=info msg=\"started tunnel\" obj=tunnels name=http-8237-b4b103a2-9486-47e4-a803-47623aef1b95 addr=http://localhost:8237 url=https://5025-34-125-220-124.ngrok-free.app\n"
          ]
        },
        {
          "output_type": "stream",
          "name": "stdout",
          "text": [
            "\u001b[1;35mt=2024-03-31T04:49:45+0000 lvl=info msg=\"started tunnel\" obj=tunnels name=http-8237-b4b103a2-9486-47e4-a803-47623aef1b95 addr=http://localhost:8237 url=https://5025-34-125-220-124.ngrok-free.app\u001b[0m\n"
          ]
        },
        {
          "output_type": "stream",
          "name": "stderr",
          "text": [
            "INFO:pyngrok.process.ngrok:t=2024-03-31T04:49:45+0000 lvl=info msg=end pg=/api/tunnels id=98c386d8aeecb83b status=201 dur=68.509227ms\n"
          ]
        },
        {
          "output_type": "stream",
          "name": "stdout",
          "text": [
            "\\x1b[31mIn Colab, use this url instead: NgrokTunnel: \"https://5025-34-125-220-124.ngrok-free.app\" -> \"http://localhost:8237\"!\\x1b[0m\n",
            "\u001b[1;35mt=2024-03-31T04:49:45+0000 lvl=info msg=end pg=/api/tunnels id=98c386d8aeecb83b status=201 dur=68.509227ms\u001b[0m\n",
            "\u001b[1;35mNumExpr defaulting to 2 threads.\u001b[0m\n",
            "\u001b[2;36mThe local ZenML dashboard is about to deploy in a blocking process. You can connect to it using the \u001b[0m\n",
            "\u001b[2;32m'default'\u001b[0m\u001b[2;36m username and an empty password.\u001b[0m\n",
            "\u001b[1;35mDeploying a local ZenML server with name 'local'.\u001b[0m\n",
            "\u001b[1;35mStarting ZenML Server as blocking process... press CTRL+C once to stop it.\u001b[0m\n",
            "\u001b[32mINFO\u001b[0m:     Started server process [\u001b[36m5477\u001b[0m]\n",
            "\u001b[32mINFO\u001b[0m:     Waiting for application startup.\n",
            "\u001b[1;35mNot writing the global configuration to disk in a ZenML server environment.\u001b[0m\n",
            "\u001b[1;35mNot writing the global configuration to disk in a ZenML server environment.\u001b[0m\n",
            "\u001b[32mINFO\u001b[0m:     Application startup complete.\n",
            "\u001b[32mINFO\u001b[0m:     Uvicorn running on \u001b[1mhttp://127.0.0.1:8237\u001b[0m (Press CTRL+C to quit)\n"
          ]
        },
        {
          "output_type": "stream",
          "name": "stderr",
          "text": [
            "INFO:pyngrok.process.ngrok:t=2024-03-31T04:49:52+0000 lvl=info msg=\"join connections\" obj=join id=9781bcc660f3 l=127.0.0.1:8237 r=41.225.246.138:51526\n"
          ]
        },
        {
          "output_type": "stream",
          "name": "stdout",
          "text": [
            "\u001b[1;35mt=2024-03-31T04:49:52+0000 lvl=info msg=\"join connections\" obj=join id=9781bcc660f3 l=127.0.0.1:8237 r=41.225.246.138:51526\u001b[0m\n",
            "\u001b[32mINFO\u001b[0m:     41.225.246.138:0 - \"\u001b[1mGET / HTTP/1.1\u001b[0m\" \u001b[32m200 OK\u001b[0m\n"
          ]
        },
        {
          "output_type": "stream",
          "name": "stderr",
          "text": [
            "INFO:pyngrok.process.ngrok:t=2024-03-31T04:49:52+0000 lvl=info msg=\"join connections\" obj=join id=8597534b2df3 l=127.0.0.1:8237 r=41.225.246.138:51526\n"
          ]
        },
        {
          "output_type": "stream",
          "name": "stdout",
          "text": [
            "\u001b[32mINFO\u001b[0m:     41.225.246.138:0 - \"\u001b[1mGET /css/2.5b37d44a.chunk.css HTTP/1.1\u001b[0m\" \u001b[32m200 OK\u001b[0m\n",
            "\u001b[1;35mt=2024-03-31T04:49:52+0000 lvl=info msg=\"join connections\" obj=join id=8597534b2df3 l=127.0.0.1:8237 r=41.225.246.138:51526\u001b[0m\n"
          ]
        },
        {
          "output_type": "stream",
          "name": "stderr",
          "text": [
            "INFO:pyngrok.process.ngrok:t=2024-03-31T04:49:52+0000 lvl=info msg=\"join connections\" obj=join id=4486af8bb4db l=127.0.0.1:8237 r=41.225.246.138:51526\n"
          ]
        },
        {
          "output_type": "stream",
          "name": "stdout",
          "text": [
            "\u001b[1;35mt=2024-03-31T04:49:52+0000 lvl=info msg=\"join connections\" obj=join id=4486af8bb4db l=127.0.0.1:8237 r=41.225.246.138:51526\u001b[0m\n"
          ]
        },
        {
          "output_type": "stream",
          "name": "stderr",
          "text": [
            "INFO:pyngrok.process.ngrok:t=2024-03-31T04:49:53+0000 lvl=info msg=\"join connections\" obj=join id=c3ce45c73cee l=127.0.0.1:8237 r=41.225.246.138:51526\n"
          ]
        },
        {
          "output_type": "stream",
          "name": "stdout",
          "text": [
            "\u001b[32mINFO\u001b[0m:     41.225.246.138:0 - \"\u001b[1mGET /css/main.e79dff04.chunk.css HTTP/1.1\u001b[0m\" \u001b[32m200 OK\u001b[0m\n",
            "\u001b[32mINFO\u001b[0m:     41.225.246.138:0 - \"\u001b[1mGET /js/2.200ad335.chunk.js HTTP/1.1\u001b[0m\" \u001b[32m200 OK\u001b[0m\n",
            "\u001b[1;35mt=2024-03-31T04:49:53+0000 lvl=info msg=\"join connections\" obj=join id=c3ce45c73cee l=127.0.0.1:8237 r=41.225.246.138:51526\u001b[0m\n",
            "\u001b[32mINFO\u001b[0m:     41.225.246.138:0 - \"\u001b[1mGET /js/main.af5f2e28.chunk.js HTTP/1.1\u001b[0m\" \u001b[32m200 OK\u001b[0m\n",
            "\u001b[32mINFO\u001b[0m:     41.225.246.138:0 - \"\u001b[1mGET /favicon.ico HTTP/1.1\u001b[0m\" \u001b[32m200 OK\u001b[0m\n"
          ]
        },
        {
          "output_type": "stream",
          "name": "stderr",
          "text": [
            "INFO:pyngrok.process.ngrok:t=2024-03-31T04:49:56+0000 lvl=info msg=\"join connections\" obj=join id=1b9d09925d2b l=127.0.0.1:8237 r=41.225.246.138:51526\n"
          ]
        },
        {
          "output_type": "stream",
          "name": "stdout",
          "text": [
            "\u001b[32mINFO\u001b[0m:     41.225.246.138:0 - \"\u001b[1mGET /media/logo_small.4204397d.svg HTTP/1.1\u001b[0m\" \u001b[32m200 OK\u001b[0m\n",
            "\u001b[32mINFO\u001b[0m:     41.225.246.138:0 - \"\u001b[1mGET /api/v1/workspaces HTTP/1.1\u001b[0m\" \u001b[31m401 Unauthorized\u001b[0m\n",
            "\u001b[1;35mt=2024-03-31T04:49:56+0000 lvl=info msg=\"join connections\" obj=join id=1b9d09925d2b l=127.0.0.1:8237 r=41.225.246.138:51526\u001b[0m\n"
          ]
        },
        {
          "output_type": "stream",
          "name": "stderr",
          "text": [
            "INFO:pyngrok.process.ngrok:t=2024-03-31T04:49:57+0000 lvl=info msg=\"join connections\" obj=join id=c2dc38e3d3eb l=127.0.0.1:8237 r=41.225.246.138:51526\n"
          ]
        },
        {
          "output_type": "stream",
          "name": "stdout",
          "text": [
            "\u001b[1;35mt=2024-03-31T04:49:57+0000 lvl=info msg=\"join connections\" obj=join id=c2dc38e3d3eb l=127.0.0.1:8237 r=41.225.246.138:51526\u001b[0m\n"
          ]
        },
        {
          "output_type": "stream",
          "name": "stderr",
          "text": [
            "INFO:pyngrok.process.ngrok:t=2024-03-31T04:49:57+0000 lvl=info msg=\"join connections\" obj=join id=46eeb9295e77 l=127.0.0.1:8237 r=41.225.246.138:51526\n"
          ]
        },
        {
          "output_type": "stream",
          "name": "stdout",
          "text": [
            "\u001b[32mINFO\u001b[0m:     41.225.246.138:0 - \"\u001b[1mGET /api/v1/info HTTP/1.1\u001b[0m\" \u001b[32m200 OK\u001b[0m\n",
            "\u001b[32mINFO\u001b[0m:     41.225.246.138:0 - \"\u001b[1mGET /media/Rubik-Regular.b3d0902b.ttf HTTP/1.1\u001b[0m\" \u001b[32m200 OK\u001b[0m\n",
            "\u001b[1;35mt=2024-03-31T04:49:57+0000 lvl=info msg=\"join connections\" obj=join id=46eeb9295e77 l=127.0.0.1:8237 r=41.225.246.138:51526\u001b[0m\n",
            "\u001b[32mINFO\u001b[0m:     41.225.246.138:0 - \"\u001b[1mGET /media/Rubik-Medium.c87313aa.ttf HTTP/1.1\u001b[0m\" \u001b[32m200 OK\u001b[0m\n",
            "\u001b[32mINFO\u001b[0m:     41.225.246.138:0 - \"\u001b[1mGET /api/v1/logout HTTP/1.1\u001b[0m\" \u001b[32m200 OK\u001b[0m\n",
            "\u001b[32mINFO\u001b[0m:     41.225.246.138:0 - \"\u001b[1mGET /api/v1/info HTTP/1.1\u001b[0m\" \u001b[32m200 OK\u001b[0m\n",
            "\u001b[32mINFO\u001b[0m:     41.225.246.138:0 - \"\u001b[1mPOST /api/v1/login HTTP/1.1\u001b[0m\" \u001b[32m200 OK\u001b[0m\n",
            "\u001b[1;35mGot token from cookie\u001b[0m\n",
            "\u001b[32mINFO\u001b[0m:     41.225.246.138:0 - \"\u001b[1mGET /api/v1/workspaces HTTP/1.1\u001b[0m\" \u001b[32m200 OK\u001b[0m\n"
          ]
        },
        {
          "output_type": "stream",
          "name": "stderr",
          "text": [
            "INFO:pyngrok.process.ngrok:t=2024-03-31T04:50:02+0000 lvl=info msg=\"join connections\" obj=join id=4edfd8cbb196 l=127.0.0.1:8237 r=41.225.246.138:51526\n"
          ]
        },
        {
          "output_type": "stream",
          "name": "stdout",
          "text": [
            "\u001b[1;35mt=2024-03-31T04:50:02+0000 lvl=info msg=\"join connections\" obj=join id=4edfd8cbb196 l=127.0.0.1:8237 r=41.225.246.138:51526\u001b[0m\n"
          ]
        },
        {
          "output_type": "stream",
          "name": "stderr",
          "text": [
            "INFO:pyngrok.process.ngrok:t=2024-03-31T04:50:02+0000 lvl=info msg=\"join connections\" obj=join id=6bfb57a65f57 l=127.0.0.1:8237 r=41.225.246.138:51526\n"
          ]
        },
        {
          "output_type": "stream",
          "name": "stdout",
          "text": [
            "\u001b[1;35mt=2024-03-31T04:50:02+0000 lvl=info msg=\"join connections\" obj=join id=6bfb57a65f57 l=127.0.0.1:8237 r=41.225.246.138:51526\u001b[0m\n"
          ]
        },
        {
          "output_type": "stream",
          "name": "stderr",
          "text": [
            "INFO:pyngrok.process.ngrok:t=2024-03-31T04:50:02+0000 lvl=info msg=\"join connections\" obj=join id=89bf5ba3a41f l=127.0.0.1:8237 r=41.225.246.138:51526\n"
          ]
        },
        {
          "output_type": "stream",
          "name": "stdout",
          "text": [
            "\u001b[1;35mGot token from cookie\u001b[0m\n",
            "\u001b[32mINFO\u001b[0m:     41.225.246.138:0 - \"\u001b[1mGET /api/v1/component-types HTTP/1.1\u001b[0m\" \u001b[32m200 OK\u001b[0m\n",
            "\u001b[32mINFO\u001b[0m:     41.225.246.138:0 - \"\u001b[1mGET /api/v1/info HTTP/1.1\u001b[0m\" \u001b[32m200 OK\u001b[0m\n",
            "\u001b[1;35mt=2024-03-31T04:50:02+0000 lvl=info msg=\"join connections\" obj=join id=89bf5ba3a41f l=127.0.0.1:8237 r=41.225.246.138:51526\u001b[0m\n"
          ]
        },
        {
          "output_type": "stream",
          "name": "stderr",
          "text": [
            "INFO:pyngrok.process.ngrok:t=2024-03-31T04:50:02+0000 lvl=info msg=\"join connections\" obj=join id=ea8ed10102e7 l=127.0.0.1:8237 r=41.225.246.138:51526\n"
          ]
        },
        {
          "output_type": "stream",
          "name": "stdout",
          "text": [
            "\u001b[1;35mGot token from cookie\u001b[0m\n",
            "\u001b[32mINFO\u001b[0m:     41.225.246.138:0 - \"\u001b[1mGET /api/v1/users?hydrate=true&size=1000&page=1 HTTP/1.1\u001b[0m\" \u001b[32m200 OK\u001b[0m\n",
            "\u001b[1;35mGot token from cookie\u001b[0m\n",
            "\u001b[32mINFO\u001b[0m:     41.225.246.138:0 - \"\u001b[1mGET /api/v1/current-user HTTP/1.1\u001b[0m\" \u001b[32m200 OK\u001b[0m\n",
            "\u001b[1;35mt=2024-03-31T04:50:02+0000 lvl=info msg=\"join connections\" obj=join id=ea8ed10102e7 l=127.0.0.1:8237 r=41.225.246.138:51526\u001b[0m\n"
          ]
        },
        {
          "output_type": "stream",
          "name": "stderr",
          "text": [
            "INFO:pyngrok.process.ngrok:t=2024-03-31T04:50:02+0000 lvl=info msg=\"join connections\" obj=join id=1545ca3f1057 l=127.0.0.1:8237 r=41.225.246.138:51526\n"
          ]
        },
        {
          "output_type": "stream",
          "name": "stdout",
          "text": [
            "\u001b[1;35mt=2024-03-31T04:50:02+0000 lvl=info msg=\"join connections\" obj=join id=1545ca3f1057 l=127.0.0.1:8237 r=41.225.246.138:51526\u001b[0m\n",
            "\u001b[1;35mGot token from cookie\u001b[0m\n",
            "\u001b[32mINFO\u001b[0m:     41.225.246.138:0 - \"\u001b[1mGET /api/v1/workspaces HTTP/1.1\u001b[0m\" \u001b[32m200 OK\u001b[0m\n",
            "\u001b[1;35mGot token from cookie\u001b[0m\n",
            "\u001b[1;35mGot token from cookie\u001b[0m\n",
            "\u001b[32mINFO\u001b[0m:     41.225.246.138:0 - \"\u001b[1mGET /api/v1/users?hydrate=true&size=1000&page=1 HTTP/1.1\u001b[0m\" \u001b[32m200 OK\u001b[0m\n",
            "\u001b[32mINFO\u001b[0m:     41.225.246.138:0 - \"\u001b[1mGET /api/v1/workspaces/default/statistics HTTP/1.1\u001b[0m\" \u001b[32m200 OK\u001b[0m\n"
          ]
        },
        {
          "output_type": "stream",
          "name": "stderr",
          "text": [
            "INFO:pyngrok.process.ngrok:t=2024-03-31T04:50:05+0000 lvl=info msg=\"join connections\" obj=join id=00044c3b3bc5 l=127.0.0.1:8237 r=41.225.246.138:51526\n"
          ]
        },
        {
          "output_type": "stream",
          "name": "stdout",
          "text": [
            "\u001b[1;35mGot token from cookie\u001b[0m\n",
            "\u001b[1;35mt=2024-03-31T04:50:05+0000 lvl=info msg=\"join connections\" obj=join id=00044c3b3bc5 l=127.0.0.1:8237 r=41.225.246.138:51526\u001b[0m\n",
            "\u001b[32mINFO\u001b[0m:     41.225.246.138:0 - \"\u001b[1mGET /api/v1/info HTTP/1.1\u001b[0m\" \u001b[32m200 OK\u001b[0m\n",
            "\u001b[32mINFO\u001b[0m:     41.225.246.138:0 - \"\u001b[1mGET /api/v1/workspaces/default/pipelines?sort_by=desc:created&logical_operator=and&page=1&size=10 HTTP/1.1\u001b[0m\" \u001b[32m200 OK\u001b[0m\n",
            "\u001b[1;35mGot token from cookie\u001b[0m\n",
            "\u001b[32mINFO\u001b[0m:     41.225.246.138:0 - \"\u001b[1mGET /api/v1/workspaces HTTP/1.1\u001b[0m\" \u001b[32m200 OK\u001b[0m\n",
            "\u001b[32mINFO\u001b[0m:     41.225.246.138:0 - \"\u001b[1mGET /api/v1/info HTTP/1.1\u001b[0m\" \u001b[32m200 OK\u001b[0m\n"
          ]
        },
        {
          "output_type": "stream",
          "name": "stderr",
          "text": [
            "INFO:pyngrok.process.ngrok:t=2024-03-31T04:50:06+0000 lvl=info msg=\"join connections\" obj=join id=dcb1946f9ba0 l=127.0.0.1:8237 r=41.225.246.138:51526\n"
          ]
        },
        {
          "output_type": "stream",
          "name": "stdout",
          "text": [
            "\u001b[1;35mGot token from cookie\u001b[0m\n",
            "\u001b[1;35mGot token from cookie\u001b[0m\n",
            "\u001b[32mINFO\u001b[0m:     41.225.246.138:0 - \"\u001b[1mGET /api/v1/workspaces HTTP/1.1\u001b[0m\" \u001b[32m200 OK\u001b[0m\n",
            "\u001b[1;35mt=2024-03-31T04:50:06+0000 lvl=info msg=\"join connections\" obj=join id=dcb1946f9ba0 l=127.0.0.1:8237 r=41.225.246.138:51526\u001b[0m\n"
          ]
        },
        {
          "output_type": "stream",
          "name": "stderr",
          "text": [
            "INFO:pyngrok.process.ngrok:t=2024-03-31T04:50:06+0000 lvl=info msg=\"join connections\" obj=join id=05dfc06f6d60 l=127.0.0.1:8237 r=41.225.246.138:51526\n"
          ]
        },
        {
          "output_type": "stream",
          "name": "stdout",
          "text": [
            "\u001b[1;35mt=2024-03-31T04:50:06+0000 lvl=info msg=\"join connections\" obj=join id=05dfc06f6d60 l=127.0.0.1:8237 r=41.225.246.138:51526\u001b[0m\n",
            "\u001b[32mINFO\u001b[0m:     41.225.246.138:0 - \"\u001b[1mGET /api/v1/runs?pipeline_id=0a843d89-fce4-4775-a085-a0ce70d7aff6&sort_by=desc:created&logical_operator=and&page=1&size=10 HTTP/1.1\u001b[0m\" \u001b[32m200 OK\u001b[0m\n",
            "\u001b[1;35mGot token from cookie\u001b[0m\n",
            "\u001b[32mINFO\u001b[0m:     41.225.246.138:0 - \"\u001b[1mGET /api/v1/info HTTP/1.1\u001b[0m\" \u001b[32m200 OK\u001b[0m\n",
            "\u001b[32mINFO\u001b[0m:     41.225.246.138:0 - \"\u001b[1mGET /api/v1/pipelines/0a843d89-fce4-4775-a085-a0ce70d7aff6 HTTP/1.1\u001b[0m\" \u001b[32m200 OK\u001b[0m\n"
          ]
        },
        {
          "output_type": "stream",
          "name": "stderr",
          "text": [
            "INFO:pyngrok.process.ngrok:t=2024-03-31T04:50:11+0000 lvl=info msg=\"join connections\" obj=join id=7aa3299ec548 l=127.0.0.1:8237 r=41.225.246.138:51526\n"
          ]
        },
        {
          "output_type": "stream",
          "name": "stdout",
          "text": [
            "\u001b[1;35mt=2024-03-31T04:50:11+0000 lvl=info msg=\"join connections\" obj=join id=7aa3299ec548 l=127.0.0.1:8237 r=41.225.246.138:51526\u001b[0m\n",
            "\u001b[1;35mGot token from cookie\u001b[0m\n",
            "\u001b[32mINFO\u001b[0m:     41.225.246.138:0 - \"\u001b[1mGET /api/v1/runs?pipeline_id=0a843d89-fce4-4775-a085-a0ce70d7aff6&sort_by=desc:created&logical_operator=and&page=1&size=10 HTTP/1.1\u001b[0m\" \u001b[32m200 OK\u001b[0m\n"
          ]
        },
        {
          "output_type": "stream",
          "name": "stderr",
          "text": [
            "INFO:pyngrok.process.ngrok:t=2024-03-31T04:50:17+0000 lvl=info msg=\"join connections\" obj=join id=4c9791b86a91 l=127.0.0.1:8237 r=41.225.246.138:51526\n"
          ]
        },
        {
          "output_type": "stream",
          "name": "stdout",
          "text": [
            "\u001b[1;35mt=2024-03-31T04:50:17+0000 lvl=info msg=\"join connections\" obj=join id=4c9791b86a91 l=127.0.0.1:8237 r=41.225.246.138:51526\u001b[0m\n",
            "\u001b[1;35mGot token from cookie\u001b[0m\n",
            "\u001b[32mINFO\u001b[0m:     41.225.246.138:0 - \"\u001b[1mGET /api/v1/runs?pipeline_id=0a843d89-fce4-4775-a085-a0ce70d7aff6&sort_by=desc:created&logical_operator=and&page=1&size=10 HTTP/1.1\u001b[0m\" \u001b[32m200 OK\u001b[0m\n"
          ]
        },
        {
          "output_type": "stream",
          "name": "stderr",
          "text": [
            "INFO:pyngrok.process.ngrok:t=2024-03-31T04:50:21+0000 lvl=info msg=\"join connections\" obj=join id=68136ba12120 l=127.0.0.1:8237 r=41.225.246.138:51526\n"
          ]
        },
        {
          "output_type": "stream",
          "name": "stdout",
          "text": [
            "\u001b[1;35mGot token from cookie\u001b[0m\n",
            "\u001b[1;35mt=2024-03-31T04:50:21+0000 lvl=info msg=\"join connections\" obj=join id=68136ba12120 l=127.0.0.1:8237 r=41.225.246.138:51526\u001b[0m\n"
          ]
        },
        {
          "output_type": "stream",
          "name": "stderr",
          "text": [
            "INFO:pyngrok.process.ngrok:t=2024-03-31T04:50:21+0000 lvl=info msg=\"join connections\" obj=join id=ad8c238cee2f l=127.0.0.1:8237 r=41.225.246.138:51526\n"
          ]
        },
        {
          "output_type": "stream",
          "name": "stdout",
          "text": [
            "\u001b[1;35mt=2024-03-31T04:50:21+0000 lvl=info msg=\"join connections\" obj=join id=ad8c238cee2f l=127.0.0.1:8237 r=41.225.246.138:51526\u001b[0m\n",
            "\u001b[32mINFO\u001b[0m:     41.225.246.138:0 - \"\u001b[1mGET /api/v1/runs/59786714-7c36-42e7-9b52-4fe569e62154 HTTP/1.1\u001b[0m\" \u001b[32m200 OK\u001b[0m\n",
            "\u001b[1;35mGot token from cookie\u001b[0m\n",
            "\u001b[32mINFO\u001b[0m:     41.225.246.138:0 - \"\u001b[1mGET /api/v1/workspaces HTTP/1.1\u001b[0m\" \u001b[32m200 OK\u001b[0m\n",
            "\u001b[32mINFO\u001b[0m:     41.225.246.138:0 - \"\u001b[1mGET /api/v1/info HTTP/1.1\u001b[0m\" \u001b[32m200 OK\u001b[0m\n",
            "\u001b[1;35mGot token from cookie\u001b[0m\n",
            "\u001b[32mINFO\u001b[0m:     41.225.246.138:0 - \"\u001b[1mGET /api/v1/runs/59786714-7c36-42e7-9b52-4fe569e62154/graph HTTP/1.1\u001b[0m\" \u001b[32m200 OK\u001b[0m\n",
            "\u001b[1;35mGot token from cookie\u001b[0m\n",
            "\u001b[32mINFO\u001b[0m:     41.225.246.138:0 - \"\u001b[1mGET /media/arrowClose.cbd53f3f.svg HTTP/1.1\u001b[0m\" \u001b[32m200 OK\u001b[0m\n",
            "\u001b[32mINFO\u001b[0m:     41.225.246.138:0 - \"\u001b[1mGET /api/v1/run-metadata?pipeline_run_id=59786714-7c36-42e7-9b52-4fe569e62154&key=orchestrator_url HTTP/1.1\u001b[0m\" \u001b[32m200 OK\u001b[0m\n"
          ]
        },
        {
          "output_type": "stream",
          "name": "stderr",
          "text": [
            "INFO:pyngrok.process.ngrok:t=2024-03-31T04:50:37+0000 lvl=info msg=\"join connections\" obj=join id=6b1044d09ebe l=127.0.0.1:8237 r=41.225.246.138:51526\n"
          ]
        },
        {
          "output_type": "stream",
          "name": "stdout",
          "text": [
            "\u001b[1;35mt=2024-03-31T04:50:37+0000 lvl=info msg=\"join connections\" obj=join id=6b1044d09ebe l=127.0.0.1:8237 r=41.225.246.138:51526\u001b[0m\n"
          ]
        },
        {
          "output_type": "stream",
          "name": "stderr",
          "text": [
            "INFO:pyngrok.process.ngrok:t=2024-03-31T04:50:37+0000 lvl=info msg=\"join connections\" obj=join id=ce30055ee21b l=127.0.0.1:8237 r=41.225.246.138:51526\n"
          ]
        },
        {
          "output_type": "stream",
          "name": "stdout",
          "text": [
            "\u001b[1;35mt=2024-03-31T04:50:37+0000 lvl=info msg=\"join connections\" obj=join id=ce30055ee21b l=127.0.0.1:8237 r=41.225.246.138:51526\u001b[0m\n",
            "\u001b[32mINFO\u001b[0m:     41.225.246.138:0 - \"\u001b[1mGET /media/circleArrowSideOpen.63653df6.svg HTTP/1.1\u001b[0m\" \u001b[32m200 OK\u001b[0m\n",
            "\u001b[1;35mGot token from cookie\u001b[0m\n",
            "\u001b[32mINFO\u001b[0m:     41.225.246.138:0 - \"\u001b[1mGET /api/v1/artifact_versions/fa680560-5f1a-409b-9ac0-d16bf8c9608d HTTP/1.1\u001b[0m\" \u001b[32m200 OK\u001b[0m\n",
            "\u001b[1;35mGot token from cookie\u001b[0m\n",
            "\u001b[32mINFO\u001b[0m:     41.225.246.138:0 - \"\u001b[1mGET /api/v1/artifact_versions/fa680560-5f1a-409b-9ac0-d16bf8c9608d HTTP/1.1\u001b[0m\" \u001b[32m200 OK\u001b[0m\n",
            "\u001b[1;35mGot token from cookie\u001b[0m\n",
            "\u001b[32mINFO\u001b[0m:     41.225.246.138:0 - \"\u001b[1mGET /api/v1/artifact_versions/fa680560-5f1a-409b-9ac0-d16bf8c9608d/visualize HTTP/1.1\u001b[0m\" \u001b[32m200 OK\u001b[0m\n"
          ]
        },
        {
          "output_type": "stream",
          "name": "stderr",
          "text": [
            "INFO:pyngrok.process.ngrok:t=2024-03-31T04:50:53+0000 lvl=info msg=\"join connections\" obj=join id=2c7ddc81fbc1 l=127.0.0.1:8237 r=41.225.246.138:51526\n"
          ]
        },
        {
          "output_type": "stream",
          "name": "stdout",
          "text": [
            "\u001b[1;35mt=2024-03-31T04:50:53+0000 lvl=info msg=\"join connections\" obj=join id=2c7ddc81fbc1 l=127.0.0.1:8237 r=41.225.246.138:51526\u001b[0m\n",
            "\u001b[32mINFO\u001b[0m:     41.225.246.138:0 - \"\u001b[1mGET /media/circleArrowSideClose.98d6013e.svg HTTP/1.1\u001b[0m\" \u001b[32m200 OK\u001b[0m\n"
          ]
        },
        {
          "output_type": "stream",
          "name": "stderr",
          "text": [
            "INFO:pyngrok.process.ngrok:t=2024-03-31T04:51:01+0000 lvl=info msg=\"join connections\" obj=join id=7a870198c2bc l=127.0.0.1:8237 r=41.225.246.138:51526\n"
          ]
        },
        {
          "output_type": "stream",
          "name": "stdout",
          "text": [
            "\u001b[1;35mt=2024-03-31T04:51:01+0000 lvl=info msg=\"join connections\" obj=join id=7a870198c2bc l=127.0.0.1:8237 r=41.225.246.138:51526\u001b[0m\n"
          ]
        },
        {
          "output_type": "stream",
          "name": "stderr",
          "text": [
            "INFO:pyngrok.process.ngrok:t=2024-03-31T04:51:01+0000 lvl=info msg=\"join connections\" obj=join id=0f26f98348e1 l=127.0.0.1:8237 r=41.225.246.138:51526\n"
          ]
        },
        {
          "output_type": "stream",
          "name": "stdout",
          "text": [
            "\u001b[32mINFO\u001b[0m:     41.225.246.138:0 - \"\u001b[1mGET /media/stars.08a9b19a.svg HTTP/1.1\u001b[0m\" \u001b[32m200 OK\u001b[0m\n",
            "\u001b[1;35mt=2024-03-31T04:51:01+0000 lvl=info msg=\"join connections\" obj=join id=0f26f98348e1 l=127.0.0.1:8237 r=41.225.246.138:51526\u001b[0m\n"
          ]
        },
        {
          "output_type": "stream",
          "name": "stderr",
          "text": [
            "INFO:pyngrok.process.ngrok:t=2024-03-31T04:51:01+0000 lvl=info msg=\"join connections\" obj=join id=07b9a6628144 l=127.0.0.1:8237 r=41.225.246.138:51526\n"
          ]
        },
        {
          "output_type": "stream",
          "name": "stdout",
          "text": [
            "\u001b[1;35mt=2024-03-31T04:51:01+0000 lvl=info msg=\"join connections\" obj=join id=07b9a6628144 l=127.0.0.1:8237 r=41.225.246.138:51526\u001b[0m\n"
          ]
        },
        {
          "output_type": "stream",
          "name": "stderr",
          "text": [
            "INFO:pyngrok.process.ngrok:t=2024-03-31T04:51:01+0000 lvl=info msg=\"join connections\" obj=join id=9b60d5667ff0 l=127.0.0.1:8237 r=41.225.246.138:51526\n"
          ]
        },
        {
          "output_type": "stream",
          "name": "stdout",
          "text": [
            "\u001b[1;35mt=2024-03-31T04:51:01+0000 lvl=info msg=\"join connections\" obj=join id=9b60d5667ff0 l=127.0.0.1:8237 r=41.225.246.138:51526\u001b[0m\n",
            "\u001b[1;35mGot token from cookie\u001b[0m\n",
            "\u001b[32mINFO\u001b[0m:     41.225.246.138:0 - \"\u001b[1mGET /api/v1/version HTTP/1.1\u001b[0m\" \u001b[32m200 OK\u001b[0m\n",
            "\u001b[32mINFO\u001b[0m:     41.225.246.138:0 - \"\u001b[1mGET /api/v1/current-user HTTP/1.1\u001b[0m\" \u001b[32m200 OK\u001b[0m\n",
            "\u001b[32mINFO\u001b[0m:     41.225.246.138:0 - \"\u001b[1mGET /api/v1/info HTTP/1.1\u001b[0m\" \u001b[32m200 OK\u001b[0m\n"
          ]
        },
        {
          "output_type": "stream",
          "name": "stderr",
          "text": [
            "INFO:pyngrok.process.ngrok:t=2024-03-31T04:51:03+0000 lvl=info msg=\"join connections\" obj=join id=bbc7a618f7bc l=127.0.0.1:8237 r=41.225.246.138:51526\n"
          ]
        },
        {
          "output_type": "stream",
          "name": "stdout",
          "text": [
            "\u001b[1;35mGot token from cookie\u001b[0m\n",
            "\u001b[1;35mGot token from cookie\u001b[0m\n",
            "\u001b[32mINFO\u001b[0m:     41.225.246.138:0 - \"\u001b[1mGET /api/v1/workspaces HTTP/1.1\u001b[0m\" \u001b[32m200 OK\u001b[0m\n",
            "\u001b[32mINFO\u001b[0m:     41.225.246.138:0 - \"\u001b[1mGET /api/v1/flavors?size=1000 HTTP/1.1\u001b[0m\" \u001b[32m200 OK\u001b[0m\n",
            "\u001b[1;35mt=2024-03-31T04:51:03+0000 lvl=info msg=\"join connections\" obj=join id=bbc7a618f7bc l=127.0.0.1:8237 r=41.225.246.138:51526\u001b[0m\n"
          ]
        },
        {
          "output_type": "stream",
          "name": "stderr",
          "text": [
            "INFO:pyngrok.process.ngrok:t=2024-03-31T04:51:03+0000 lvl=info msg=\"join connections\" obj=join id=9922865291bf l=127.0.0.1:8237 r=41.225.246.138:51526\n"
          ]
        },
        {
          "output_type": "stream",
          "name": "stdout",
          "text": [
            "\u001b[1;35mt=2024-03-31T04:51:03+0000 lvl=info msg=\"join connections\" obj=join id=9922865291bf l=127.0.0.1:8237 r=41.225.246.138:51526\u001b[0m\n"
          ]
        },
        {
          "output_type": "stream",
          "name": "stderr",
          "text": [
            "INFO:pyngrok.process.ngrok:t=2024-03-31T04:51:03+0000 lvl=info msg=\"join connections\" obj=join id=476e9cf689c5 l=127.0.0.1:8237 r=41.225.246.138:51526\n"
          ]
        },
        {
          "output_type": "stream",
          "name": "stdout",
          "text": [
            "\u001b[1;35mt=2024-03-31T04:51:03+0000 lvl=info msg=\"join connections\" obj=join id=476e9cf689c5 l=127.0.0.1:8237 r=41.225.246.138:51526\u001b[0m\n",
            "\u001b[1;35mGot token from cookie\u001b[0m\n",
            "\u001b[1;35mGot token from cookie\u001b[0m\n",
            "\u001b[32mINFO\u001b[0m:     41.225.246.138:0 - \"\u001b[1mGET /api/v1/component-types HTTP/1.1\u001b[0m\" \u001b[32m200 OK\u001b[0m\n",
            "\u001b[32mINFO\u001b[0m:     41.225.246.138:0 - \"\u001b[1mGET /api/v1/workspaces/default/components?scope_type=orchestrator&sort_by=desc:created&logical_operator=and&page=1&size=10 HTTP/1.1\u001b[0m\" \u001b[32m200 OK\u001b[0m\n",
            "\u001b[32mINFO\u001b[0m:     41.225.246.138:0 - \"\u001b[1mGET /api/v1/info HTTP/1.1\u001b[0m\" \u001b[32m200 OK\u001b[0m\n"
          ]
        },
        {
          "output_type": "stream",
          "name": "stderr",
          "text": [
            "INFO:pyngrok.process.ngrok:t=2024-03-31T04:51:09+0000 lvl=info msg=\"join connections\" obj=join id=75acdb1bb9b7 l=127.0.0.1:8237 r=41.225.246.138:51526\n"
          ]
        },
        {
          "output_type": "stream",
          "name": "stdout",
          "text": [
            "\u001b[1;35mt=2024-03-31T04:51:09+0000 lvl=info msg=\"join connections\" obj=join id=75acdb1bb9b7 l=127.0.0.1:8237 r=41.225.246.138:51526\u001b[0m\n",
            "\u001b[1;35mGot token from cookie\u001b[0m\n",
            "\u001b[32mINFO\u001b[0m:     41.225.246.138:0 - \"\u001b[1mGET /api/v1/workspaces/default/components?scope_type=orchestrator&sort_by=desc:created&logical_operator=and&page=1&size=10 HTTP/1.1\u001b[0m\" \u001b[32m200 OK\u001b[0m\n"
          ]
        },
        {
          "output_type": "stream",
          "name": "stderr",
          "text": [
            "INFO:pyngrok.process.ngrok:t=2024-03-31T04:51:14+0000 lvl=info msg=\"join connections\" obj=join id=f9b006f38dc4 l=127.0.0.1:8237 r=41.225.246.138:51526\n"
          ]
        },
        {
          "output_type": "stream",
          "name": "stdout",
          "text": [
            "\u001b[1;35mt=2024-03-31T04:51:14+0000 lvl=info msg=\"join connections\" obj=join id=f9b006f38dc4 l=127.0.0.1:8237 r=41.225.246.138:51526\u001b[0m\n"
          ]
        },
        {
          "output_type": "stream",
          "name": "stderr",
          "text": [
            "INFO:pyngrok.process.ngrok:t=2024-03-31T04:51:14+0000 lvl=info msg=\"join connections\" obj=join id=b42ed990e669 l=127.0.0.1:8237 r=41.225.246.138:51526\n"
          ]
        },
        {
          "output_type": "stream",
          "name": "stdout",
          "text": [
            "\u001b[1;35mt=2024-03-31T04:51:14+0000 lvl=info msg=\"join connections\" obj=join id=b42ed990e669 l=127.0.0.1:8237 r=41.225.246.138:51526\u001b[0m\n"
          ]
        },
        {
          "output_type": "stream",
          "name": "stderr",
          "text": [
            "INFO:pyngrok.process.ngrok:t=2024-03-31T04:51:14+0000 lvl=info msg=\"join connections\" obj=join id=06cda776cfbf l=127.0.0.1:8237 r=41.225.246.138:51526\n"
          ]
        },
        {
          "output_type": "stream",
          "name": "stdout",
          "text": [
            "\u001b[1;35mt=2024-03-31T04:51:14+0000 lvl=info msg=\"join connections\" obj=join id=06cda776cfbf l=127.0.0.1:8237 r=41.225.246.138:51526\u001b[0m\n"
          ]
        },
        {
          "output_type": "stream",
          "name": "stderr",
          "text": [
            "INFO:pyngrok.process.ngrok:t=2024-03-31T04:51:14+0000 lvl=info msg=\"join connections\" obj=join id=c18f63604d85 l=127.0.0.1:8237 r=41.225.246.138:51526\n"
          ]
        },
        {
          "output_type": "stream",
          "name": "stdout",
          "text": [
            "\u001b[1;35mt=2024-03-31T04:51:14+0000 lvl=info msg=\"join connections\" obj=join id=c18f63604d85 l=127.0.0.1:8237 r=41.225.246.138:51526\u001b[0m\n",
            "\u001b[1;35mGot token from cookie\u001b[0m\n",
            "\u001b[1;35mGot token from cookie\u001b[0m\n",
            "\u001b[32mINFO\u001b[0m:     41.225.246.138:0 - \"\u001b[1mGET /api/v1/workspaces HTTP/1.1\u001b[0m\" \u001b[32m200 OK\u001b[0m\n",
            "\u001b[32mINFO\u001b[0m:     41.225.246.138:0 - \"\u001b[1mGET /api/v1/workspaces/default/code_repositories?hydrate=true&page=1&size=10 HTTP/1.1\u001b[0m\" \u001b[32m200 OK\u001b[0m\n",
            "\u001b[1;35mGot token from cookie\u001b[0m\n",
            "\u001b[32mINFO\u001b[0m:     41.225.246.138:0 - \"\u001b[1mGET /api/v1/info HTTP/1.1\u001b[0m\" \u001b[32m200 OK\u001b[0m\n",
            "\u001b[32mINFO\u001b[0m:     41.225.246.138:0 - \"\u001b[1mGET /api/v1/workspaces/default/code_repositories?hydrate=true&logical_operator=and&page=1&size=10 HTTP/1.1\u001b[0m\" \u001b[32m200 OK\u001b[0m\n"
          ]
        },
        {
          "output_type": "stream",
          "name": "stderr",
          "text": [
            "INFO:pyngrok.process.ngrok:t=2024-03-31T04:51:17+0000 lvl=info msg=\"join connections\" obj=join id=b9591bb6bf38 l=127.0.0.1:8237 r=41.225.246.138:51526\n"
          ]
        },
        {
          "output_type": "stream",
          "name": "stdout",
          "text": [
            "\u001b[1;35mGot token from cookie\u001b[0m\n",
            "\u001b[1;35mGot token from cookie\u001b[0m\n",
            "\u001b[32mINFO\u001b[0m:     41.225.246.138:0 - \"\u001b[1mGET /api/v1/workspaces HTTP/1.1\u001b[0m\" \u001b[32m200 OK\u001b[0m\n",
            "\u001b[32mINFO\u001b[0m:     41.225.246.138:0 - \"\u001b[1mGET /api/v1/workspaces/default/runs?sort_by=desc:created&logical_operator=and&page=1&size=10 HTTP/1.1\u001b[0m\" \u001b[32m200 OK\u001b[0m\n",
            "\u001b[1;35mt=2024-03-31T04:51:17+0000 lvl=info msg=\"join connections\" obj=join id=b9591bb6bf38 l=127.0.0.1:8237 r=41.225.246.138:51526\u001b[0m\n",
            "\u001b[32mINFO\u001b[0m:     41.225.246.138:0 - \"\u001b[1mGET /api/v1/info HTTP/1.1\u001b[0m\" \u001b[32m200 OK\u001b[0m\n"
          ]
        },
        {
          "output_type": "stream",
          "name": "stderr",
          "text": [
            "INFO:pyngrok.process.ngrok:t=2024-03-31T04:51:17+0000 lvl=info msg=\"join connections\" obj=join id=8f7995fe55c6 l=127.0.0.1:8237 r=41.225.246.138:51526\n"
          ]
        },
        {
          "output_type": "stream",
          "name": "stdout",
          "text": [
            "\u001b[1;35mGot token from cookie\u001b[0m\n",
            "\u001b[1;35mGot token from cookie\u001b[0m\n",
            "\u001b[32mINFO\u001b[0m:     41.225.246.138:0 - \"\u001b[1mGET /api/v1/workspaces HTTP/1.1\u001b[0m\" \u001b[32m200 OK\u001b[0m\n",
            "\u001b[32mINFO\u001b[0m:     41.225.246.138:0 - \"\u001b[1mGET /api/v1/workspaces/default/pipelines?sort_by=desc:created&logical_operator=and&page=1&size=10 HTTP/1.1\u001b[0m\" \u001b[32m200 OK\u001b[0m\n",
            "\u001b[1;35mt=2024-03-31T04:51:17+0000 lvl=info msg=\"join connections\" obj=join id=8f7995fe55c6 l=127.0.0.1:8237 r=41.225.246.138:51526\u001b[0m\n",
            "\u001b[32mINFO\u001b[0m:     41.225.246.138:0 - \"\u001b[1mGET /api/v1/info HTTP/1.1\u001b[0m\" \u001b[32m200 OK\u001b[0m\n"
          ]
        },
        {
          "output_type": "stream",
          "name": "stderr",
          "text": [
            "INFO:pyngrok.process.ngrok:t=2024-03-31T04:51:22+0000 lvl=info msg=\"join connections\" obj=join id=312da4d19d7e l=127.0.0.1:8237 r=41.225.246.138:51526\n"
          ]
        },
        {
          "output_type": "stream",
          "name": "stdout",
          "text": [
            "\u001b[1;35mt=2024-03-31T04:51:22+0000 lvl=info msg=\"join connections\" obj=join id=312da4d19d7e l=127.0.0.1:8237 r=41.225.246.138:51526\u001b[0m\n"
          ]
        },
        {
          "output_type": "stream",
          "name": "stderr",
          "text": [
            "INFO:pyngrok.process.ngrok:t=2024-03-31T04:51:22+0000 lvl=info msg=\"join connections\" obj=join id=7f7d1a403ef6 l=127.0.0.1:8237 r=41.225.246.138:51526\n"
          ]
        },
        {
          "output_type": "stream",
          "name": "stdout",
          "text": [
            "\u001b[1;35mt=2024-03-31T04:51:22+0000 lvl=info msg=\"join connections\" obj=join id=7f7d1a403ef6 l=127.0.0.1:8237 r=41.225.246.138:51526\u001b[0m\n"
          ]
        },
        {
          "output_type": "stream",
          "name": "stderr",
          "text": [
            "INFO:pyngrok.process.ngrok:t=2024-03-31T04:51:22+0000 lvl=info msg=\"join connections\" obj=join id=81c0372642b4 l=127.0.0.1:8237 r=41.225.246.138:51526\n"
          ]
        },
        {
          "output_type": "stream",
          "name": "stdout",
          "text": [
            "\u001b[1;35mGot token from cookie\u001b[0m\n",
            "\u001b[32mINFO\u001b[0m:     41.225.246.138:0 - \"\u001b[1mGET /api/v1/info HTTP/1.1\u001b[0m\" \u001b[32m200 OK\u001b[0m\n",
            "\u001b[32mINFO\u001b[0m:     41.225.246.138:0 - \"\u001b[1mGET /api/v1/pipelines/0a843d89-fce4-4775-a085-a0ce70d7aff6 HTTP/1.1\u001b[0m\" \u001b[32m200 OK\u001b[0m\n",
            "\u001b[1;35mt=2024-03-31T04:51:22+0000 lvl=info msg=\"join connections\" obj=join id=81c0372642b4 l=127.0.0.1:8237 r=41.225.246.138:51526\u001b[0m\n"
          ]
        },
        {
          "output_type": "stream",
          "name": "stderr",
          "text": [
            "INFO:pyngrok.process.ngrok:t=2024-03-31T04:51:22+0000 lvl=info msg=\"join connections\" obj=join id=4da2ee729ab7 l=127.0.0.1:8237 r=41.225.246.138:51526\n"
          ]
        },
        {
          "output_type": "stream",
          "name": "stdout",
          "text": [
            "\u001b[1;35mt=2024-03-31T04:51:22+0000 lvl=info msg=\"join connections\" obj=join id=4da2ee729ab7 l=127.0.0.1:8237 r=41.225.246.138:51526\u001b[0m\n",
            "\u001b[1;35mGot token from cookie\u001b[0m\n",
            "\u001b[1;35mGot token from cookie\u001b[0m\n",
            "\u001b[32mINFO\u001b[0m:     41.225.246.138:0 - \"\u001b[1mGET /api/v1/workspaces HTTP/1.1\u001b[0m\" \u001b[32m200 OK\u001b[0m\n",
            "\u001b[32mINFO\u001b[0m:     41.225.246.138:0 - \"\u001b[1mGET /api/v1/runs?pipeline_id=0a843d89-fce4-4775-a085-a0ce70d7aff6&sort_by=desc:created&logical_operator=and&page=1&size=10 HTTP/1.1\u001b[0m\" \u001b[32m200 OK\u001b[0m\n"
          ]
        },
        {
          "output_type": "stream",
          "name": "stderr",
          "text": [
            "INFO:pyngrok.process.ngrok:t=2024-03-31T04:51:25+0000 lvl=info msg=\"join connections\" obj=join id=09e16923a524 l=127.0.0.1:8237 r=41.225.246.138:51526\n"
          ]
        },
        {
          "output_type": "stream",
          "name": "stdout",
          "text": [
            "\u001b[1;35mGot token from cookie\u001b[0m\n",
            "\u001b[32mINFO\u001b[0m:     41.225.246.138:0 - \"\u001b[1mGET /api/v1/info HTTP/1.1\u001b[0m\" \u001b[32m200 OK\u001b[0m\n",
            "\u001b[32mINFO\u001b[0m:     41.225.246.138:0 - \"\u001b[1mGET /api/v1/workspaces HTTP/1.1\u001b[0m\" \u001b[32m200 OK\u001b[0m\n",
            "\u001b[1;35mt=2024-03-31T04:51:25+0000 lvl=info msg=\"join connections\" obj=join id=09e16923a524 l=127.0.0.1:8237 r=41.225.246.138:51526\u001b[0m\n",
            "\u001b[1;35mGot token from cookie\u001b[0m\n",
            "\u001b[32mINFO\u001b[0m:     41.225.246.138:0 - \"\u001b[1mGET /api/v1/runs/59786714-7c36-42e7-9b52-4fe569e62154 HTTP/1.1\u001b[0m\" \u001b[32m200 OK\u001b[0m\n",
            "\u001b[1;35mGot token from cookie\u001b[0m\n",
            "\u001b[32mINFO\u001b[0m:     41.225.246.138:0 - \"\u001b[1mGET /api/v1/runs/59786714-7c36-42e7-9b52-4fe569e62154/graph HTTP/1.1\u001b[0m\" \u001b[32m200 OK\u001b[0m\n",
            "\u001b[1;35mGot token from cookie\u001b[0m\n",
            "\u001b[32mINFO\u001b[0m:     41.225.246.138:0 - \"\u001b[1mGET /api/v1/run-metadata?pipeline_run_id=59786714-7c36-42e7-9b52-4fe569e62154&key=orchestrator_url HTTP/1.1\u001b[0m\" \u001b[32m200 OK\u001b[0m\n",
            "\u001b[1;35mGot token from cookie\u001b[0m\n",
            "\u001b[32mINFO\u001b[0m:     41.225.246.138:0 - \"\u001b[1mGET /api/v1/steps/8ea4dab5-14f7-4507-97ed-3fe392c1a282 HTTP/1.1\u001b[0m\" \u001b[32m200 OK\u001b[0m\n"
          ]
        },
        {
          "output_type": "stream",
          "name": "stderr",
          "text": [
            "INFO:pyngrok.process.ngrok:t=2024-03-31T04:51:48+0000 lvl=info msg=\"join connections\" obj=join id=12aac7e436a4 l=127.0.0.1:8237 r=41.225.246.138:51526\n"
          ]
        },
        {
          "output_type": "stream",
          "name": "stdout",
          "text": [
            "\u001b[1;35mt=2024-03-31T04:51:48+0000 lvl=info msg=\"join connections\" obj=join id=12aac7e436a4 l=127.0.0.1:8237 r=41.225.246.138:51526\u001b[0m\n"
          ]
        },
        {
          "output_type": "stream",
          "name": "stderr",
          "text": [
            "INFO:pyngrok.process.ngrok:t=2024-03-31T04:51:48+0000 lvl=info msg=\"join connections\" obj=join id=eb70fcf10152 l=127.0.0.1:8237 r=41.225.246.138:51526\n"
          ]
        },
        {
          "output_type": "stream",
          "name": "stdout",
          "text": [
            "\u001b[1;35mt=2024-03-31T04:51:48+0000 lvl=info msg=\"join connections\" obj=join id=eb70fcf10152 l=127.0.0.1:8237 r=41.225.246.138:51526\u001b[0m\n"
          ]
        },
        {
          "output_type": "stream",
          "name": "stderr",
          "text": [
            "INFO:pyngrok.process.ngrok:t=2024-03-31T04:51:48+0000 lvl=info msg=\"join connections\" obj=join id=b4d2b9d27244 l=127.0.0.1:8237 r=41.225.246.138:51526\n"
          ]
        },
        {
          "output_type": "stream",
          "name": "stdout",
          "text": [
            "\u001b[1;35mt=2024-03-31T04:51:48+0000 lvl=info msg=\"join connections\" obj=join id=b4d2b9d27244 l=127.0.0.1:8237 r=41.225.246.138:51526\u001b[0m\n",
            "\u001b[1;35mGot token from cookie\u001b[0m\n",
            "\u001b[32mINFO\u001b[0m:     41.225.246.138:0 - \"\u001b[1mGET /api/v1/workspaces HTTP/1.1\u001b[0m\" \u001b[32m200 OK\u001b[0m\n",
            "\u001b[1;35mGot token from cookie\u001b[0m\n",
            "\u001b[32mINFO\u001b[0m:     41.225.246.138:0 - \"\u001b[1mGET /api/v1/info HTTP/1.1\u001b[0m\" \u001b[32m200 OK\u001b[0m\n",
            "\u001b[32mINFO\u001b[0m:     41.225.246.138:0 - \"\u001b[1mGET /api/v1/runs/59786714-7c36-42e7-9b52-4fe569e62154 HTTP/1.1\u001b[0m\" \u001b[32m200 OK\u001b[0m\n",
            "\u001b[1;35mGot token from cookie\u001b[0m\n",
            "\u001b[32mINFO\u001b[0m:     41.225.246.138:0 - \"\u001b[1mGET /api/v1/runs/59786714-7c36-42e7-9b52-4fe569e62154/graph HTTP/1.1\u001b[0m\" \u001b[32m200 OK\u001b[0m\n",
            "\u001b[1;35mGot token from cookie\u001b[0m\n",
            "\u001b[32mINFO\u001b[0m:     41.225.246.138:0 - \"\u001b[1mGET /api/v1/run-metadata?pipeline_run_id=59786714-7c36-42e7-9b52-4fe569e62154&key=orchestrator_url HTTP/1.1\u001b[0m\" \u001b[32m200 OK\u001b[0m\n"
          ]
        },
        {
          "output_type": "stream",
          "name": "stderr",
          "text": [
            "INFO:pyngrok.process.ngrok:t=2024-03-31T04:51:53+0000 lvl=info msg=\"join connections\" obj=join id=72c23f7e71c0 l=127.0.0.1:8237 r=41.225.246.138:51526\n"
          ]
        },
        {
          "output_type": "stream",
          "name": "stdout",
          "text": [
            "\u001b[1;35mGot token from cookie\u001b[0m\n",
            "\u001b[32mINFO\u001b[0m:     41.225.246.138:0 - \"\u001b[1mGET /api/v1/info HTTP/1.1\u001b[0m\" \u001b[32m200 OK\u001b[0m\n",
            "\u001b[32mINFO\u001b[0m:     41.225.246.138:0 - \"\u001b[1mGET /api/v1/workspaces HTTP/1.1\u001b[0m\" \u001b[32m200 OK\u001b[0m\n",
            "\u001b[1;35mt=2024-03-31T04:51:53+0000 lvl=info msg=\"join connections\" obj=join id=72c23f7e71c0 l=127.0.0.1:8237 r=41.225.246.138:51526\u001b[0m\n",
            "\u001b[1;35mGot token from cookie\u001b[0m\n",
            "\u001b[32mINFO\u001b[0m:     41.225.246.138:0 - \"\u001b[1mGET /api/v1/runs/59786714-7c36-42e7-9b52-4fe569e62154 HTTP/1.1\u001b[0m\" \u001b[32m200 OK\u001b[0m\n",
            "\u001b[1;35mGot token from cookie\u001b[0m\n",
            "\u001b[32mINFO\u001b[0m:     41.225.246.138:0 - \"\u001b[1mGET /api/v1/runs/59786714-7c36-42e7-9b52-4fe569e62154/graph HTTP/1.1\u001b[0m\" \u001b[32m200 OK\u001b[0m\n",
            "\u001b[1;35mGot token from cookie\u001b[0m\n",
            "\u001b[32mINFO\u001b[0m:     41.225.246.138:0 - \"\u001b[1mGET /api/v1/run-metadata?pipeline_run_id=59786714-7c36-42e7-9b52-4fe569e62154&key=orchestrator_url HTTP/1.1\u001b[0m\" \u001b[32m200 OK\u001b[0m\n"
          ]
        },
        {
          "output_type": "stream",
          "name": "stderr",
          "text": [
            "INFO:pyngrok.process.ngrok:t=2024-03-31T04:51:55+0000 lvl=info msg=\"join connections\" obj=join id=602a6df57947 l=127.0.0.1:8237 r=41.225.246.138:51526\n"
          ]
        },
        {
          "output_type": "stream",
          "name": "stdout",
          "text": [
            "\u001b[1;35mGot token from cookie\u001b[0m\n",
            "\u001b[32mINFO\u001b[0m:     41.225.246.138:0 - \"\u001b[1mGET /api/v1/info HTTP/1.1\u001b[0m\" \u001b[32m200 OK\u001b[0m\n",
            "\u001b[32mINFO\u001b[0m:     41.225.246.138:0 - \"\u001b[1mGET /api/v1/workspaces HTTP/1.1\u001b[0m\" \u001b[32m200 OK\u001b[0m\n",
            "\u001b[1;35mt=2024-03-31T04:51:55+0000 lvl=info msg=\"join connections\" obj=join id=602a6df57947 l=127.0.0.1:8237 r=41.225.246.138:51526\u001b[0m\n",
            "\u001b[1;35mGot token from cookie\u001b[0m\n",
            "\u001b[32mINFO\u001b[0m:     41.225.246.138:0 - \"\u001b[1mGET /api/v1/runs/59786714-7c36-42e7-9b52-4fe569e62154 HTTP/1.1\u001b[0m\" \u001b[32m200 OK\u001b[0m\n",
            "\u001b[1;35mGot token from cookie\u001b[0m\n",
            "\u001b[32mINFO\u001b[0m:     41.225.246.138:0 - \"\u001b[1mGET /api/v1/runs/59786714-7c36-42e7-9b52-4fe569e62154/graph HTTP/1.1\u001b[0m\" \u001b[32m200 OK\u001b[0m\n",
            "\u001b[1;35mGot token from cookie\u001b[0m\n",
            "\u001b[32mINFO\u001b[0m:     41.225.246.138:0 - \"\u001b[1mGET /api/v1/run-metadata?pipeline_run_id=59786714-7c36-42e7-9b52-4fe569e62154&key=orchestrator_url HTTP/1.1\u001b[0m\" \u001b[32m200 OK\u001b[0m\n"
          ]
        },
        {
          "output_type": "stream",
          "name": "stderr",
          "text": [
            "INFO:pyngrok.process.ngrok:t=2024-03-31T04:52:48+0000 lvl=info msg=\"received stop request\" obj=app stopReq=\"{err:<nil> restart:false}\"\n"
          ]
        },
        {
          "output_type": "stream",
          "name": "stdout",
          "text": [
            "\u001b[1;35mt=2024-03-31T04:52:48+0000 lvl=info msg=\"received stop request\" obj=app stopReq=\"{err:<nil> restart:false}\"\u001b[0m\n"
          ]
        },
        {
          "output_type": "stream",
          "name": "stderr",
          "text": [
            "INFO:pyngrok.process.ngrok:t=2024-03-31T04:52:48+0000 lvl=info msg=\"session closing\" obj=tunnels.session err=nil\n"
          ]
        },
        {
          "output_type": "stream",
          "name": "stdout",
          "text": [
            "\u001b[1;35mt=2024-03-31T04:52:48+0000 lvl=info msg=\"session closing\" obj=tunnels.session err=nil\u001b[0m\n",
            "\u001b[32mINFO\u001b[0m:     Shutting down\n",
            "\u001b[32mINFO\u001b[0m:     Finished server process [\u001b[36m5477\u001b[0m]\n",
            "\u001b[31mERROR\u001b[0m:    Traceback (most recent call last):\n",
            "  File \"/usr/lib/python3.10/asyncio/runners.py\", line 44, in run\n",
            "    return loop.run_until_complete(main)\n",
            "  File \"uvloop/loop.pyx\", line 1511, in uvloop.loop.Loop.run_until_complete\n",
            "  File \"uvloop/loop.pyx\", line 1504, in uvloop.loop.Loop.run_until_complete\n",
            "  File \"uvloop/loop.pyx\", line 1377, in uvloop.loop.Loop.run_forever\n",
            "  File \"uvloop/loop.pyx\", line 555, in uvloop.loop.Loop._run\n",
            "  File \"uvloop/loop.pyx\", line 474, in uvloop.loop.Loop._on_idle\n",
            "  File \"uvloop/cbhandles.pyx\", line 83, in uvloop.loop.Handle._run\n",
            "  File \"uvloop/cbhandles.pyx\", line 63, in uvloop.loop.Handle._run\n",
            "  File \"/usr/local/lib/python3.10/dist-packages/uvicorn/server.py\", line 68, in serve\n",
            "    with self.capture_signals():\n",
            "  File \"/usr/lib/python3.10/contextlib.py\", line 142, in __exit__\n",
            "    next(self.gen)\n",
            "  File \"/usr/local/lib/python3.10/dist-packages/uvicorn/server.py\", line 328, in capture_signals\n",
            "    signal.raise_signal(captured_signal)\n",
            "KeyboardInterrupt\n",
            "\n",
            "During handling of the above exception, another exception occurred:\n",
            "\n",
            "Traceback (most recent call last):\n",
            "  File \"/usr/local/lib/python3.10/dist-packages/starlette/routing.py\", line 686, in lifespan\n",
            "    await receive()\n",
            "  File \"/usr/local/lib/python3.10/dist-packages/uvicorn/lifespan/on.py\", line 137, in receive\n",
            "    return await self.receive_queue.get()\n",
            "  File \"/usr/lib/python3.10/asyncio/queues.py\", line 159, in get\n",
            "    await getter\n",
            "asyncio.exceptions.CancelledError\n",
            "\n",
            "\u001b[1;35mZenML Server stopped. Resuming normal execution.\u001b[0m\n"
          ]
        }
      ],
      "source": [
        "from zenml.environment import Environment\n",
        "\n",
        "def start_zenml_dashboard(port=8237):\n",
        "  if Environment.in_google_colab():\n",
        "    from pyngrok import ngrok\n",
        "\n",
        "    public_url = ngrok.connect(port)\n",
        "    #print(f\"\\xlb[31mIn Colab, use this url instead: {public_url}!\\xlb]0m\")\n",
        "    print(f\"\\\\x1b[31mIn Colab, use this url instead: {public_url}!\\\\x1b[0m\")\n",
        "    !zenml up --blocking --port {port}\n",
        "\n",
        "  else:\n",
        "    !zenml up --port {port}\n",
        "start_zenml_dashboard()"
      ]
    },
    {
      "cell_type": "code",
      "execution_count": 35,
      "metadata": {
        "colab": {
          "base_uri": "https://localhost:8080/"
        },
        "id": "K5V0grGrQ6B4",
        "outputId": "3112b689-a960-4f34-d04f-90aea51f781e"
      },
      "outputs": [
        {
          "output_type": "stream",
          "name": "stdout",
          "text": [
            "\u001b[1;35mNumExpr defaulting to 2 threads.\u001b[0m\n",
            "\u001b[2;36mThe local ZenML dashboard is not running.\u001b[0m\n"
          ]
        }
      ],
      "source": [
        "!zenml down"
      ]
    }
  ],
  "metadata": {
    "accelerator": "GPU",
    "colab": {
      "gpuType": "T4",
      "provenance": []
    },
    "kernelspec": {
      "display_name": "Python 3",
      "name": "python3"
    },
    "language_info": {
      "name": "python"
    }
  },
  "nbformat": 4,
  "nbformat_minor": 0
}